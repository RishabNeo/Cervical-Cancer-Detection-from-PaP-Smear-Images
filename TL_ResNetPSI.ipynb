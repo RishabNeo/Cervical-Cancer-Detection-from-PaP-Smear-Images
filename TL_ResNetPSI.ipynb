{
 "cells": [
  {
   "cell_type": "markdown",
   "id": "9556438e",
   "metadata": {},
   "source": [
    "# Transfer Learning using PSI\n",
    "\n",
    "A Pap smear, also called a Pap test, is a procedure to test for cervical cancer in women. A Pap smear involves collecting cells from your cervix — the lower, narrow end of your uterus that's at the top of your vagina. Detecting cervical cancer early with a Pap smear gives you a greater chance at a cure."
   ]
  },
  {
   "cell_type": "code",
   "execution_count": 1,
   "id": "33aa8931",
   "metadata": {},
   "outputs": [],
   "source": [
    "import numpy as np\n",
    "import pandas as pd\n",
    "import random\n",
    "import os\n",
    "from sklearn.model_selection import train_test_split\n",
    "from sklearn.preprocessing import LabelBinarizer \n",
    "from sklearn.model_selection import train_test_split\n",
    "from sklearn.utils import shuffle\n",
    "from sklearn.metrics import accuracy_score\n",
    "from tqdm import tqdm\n",
    "import time\n",
    "\n",
    "import tensorflow as tf\n",
    "from tensorflow.keras.models import Sequential\n",
    "from tensorflow.keras.layers import Conv2D\n",
    "from tensorflow.keras.layers import MaxPooling2D\n",
    "from tensorflow.keras.layers import Activation\n",
    "from tensorflow.keras.layers import Flatten\n",
    "from tensorflow.keras.layers import Dense\n",
    "from tensorflow.keras.optimizers import SGD\n",
    "from tensorflow.keras import backend as K"
   ]
  },
  {
   "cell_type": "code",
   "execution_count": 2,
   "id": "4222db10",
   "metadata": {},
   "outputs": [
    {
     "name": "stdout",
     "output_type": "stream",
     "text": [
      "Processing images in folder: .ipynb_checkpoints\n",
      "Processing images in folder: New folder\n",
      "Processing images in folder: one_hot_labels\n"
     ]
    }
   ],
   "source": [
    "import cv2\n",
    "import numpy as np\n",
    "import os\n",
    "\n",
    "def preprocess_images_in_folders(root_folder, target_size=(224, 224)):\n",
    "    all_preprocessed_images = []\n",
    "\n",
    "    # Iterate over all subfolders in the root folder\n",
    "    for folder_name in os.listdir(root_folder):\n",
    "        folder_path = os.path.join(root_folder, folder_name)\n",
    "\n",
    "        # Check if the path is a directory\n",
    "        if os.path.isdir(folder_path):\n",
    "            print(f\"Processing images in folder: {folder_name}\")\n",
    "\n",
    "            # Preprocess images in the current folder\n",
    "            preprocessed_images = preprocess_images_in_folder(folder_path, target_size)\n",
    "\n",
    "            # Extend the list of all preprocessed images\n",
    "            all_preprocessed_images.extend(preprocessed_images)\n",
    "\n",
    "    return all_preprocessed_images\n",
    "\n",
    "def preprocess_images_in_folder(folder_path, target_size=(224, 224)):\n",
    "    preprocessed_images = []\n",
    "\n",
    "    # Iterate over all files in the folder\n",
    "    for filename in os.listdir(folder_path):\n",
    "        if filename.endswith(('.jpg', '.bmp')):\n",
    "            # Construct the full path to the image\n",
    "            image_path = os.path.join(folder_path, filename)\n",
    "\n",
    "            # Preprocess the image\n",
    "            preprocessed_image = preprocess_image(image_path, target_size)\n",
    "\n",
    "            # Append the preprocessed image to the list\n",
    "            preprocessed_images.append(preprocessed_image)\n",
    "\n",
    "    return preprocessed_images\n",
    "\n",
    "def preprocess_image(image_path, target_size=(224, 224)):\n",
    "    # Read the image\n",
    "    image = cv2.imread(image_path)\n",
    "\n",
    "    # Resize the image\n",
    "    image = cv2.resize(image, target_size)\n",
    "\n",
    "    # Convert the image to grayscale (optional, depending on your task)\n",
    "    # image = cv2.cvtColor(image, cv2.COLOR_BGR2GRAY)\n",
    "\n",
    "    # Normalize pixel values to be between 0 and 1\n",
    "    image = image.astype(np.float32) / 255.0\n",
    "\n",
    "    # You can apply additional preprocessing steps here based on your requirements\n",
    "\n",
    "    return image\n",
    "\n",
    "# Example usage\n",
    "root_folder = \"C:/Users/91898/Downloads\"\n",
    "all_preprocessed_images = preprocess_images_in_folders(root_folder)\n"
   ]
  },
  {
   "cell_type": "code",
   "execution_count": 3,
   "id": "da96e5ac",
   "metadata": {},
   "outputs": [],
   "source": [
    "import os\n",
    "import random\n",
    "import shutil\n",
    "\n",
    "main_folder_path = \"C:/Users/91898/Downloads/New folder_1\"\n",
    "client_paths = [\"C:/Users/91898/Downloads/New folder_1/client1\", \"C:/Users/91898/Downloads/New folder_1/client2\", \"C:/Users/91898/Downloads/New folder_1/client3\", \"C:/Users/91898/Downloads/New folder_1/client4\"]\n",
    "desired_distribution = {\n",
    "    'im_Dyskeratotic': [270, 156, 106, 81],\n",
    "    'im_Koilocytotic': [98, 109, 121, 190],\n",
    "    'im_Metaplastic': [124, 139, 89, 241],\n",
    "    'im_Parabasal': [152, 84, 234, 117],\n",
    "    'im_Superficial-Intermediate': [173, 131, 204, 113]\n",
    "}\n",
    "\n",
    "# Initialize client data dictionaries\n",
    "client_data = {client: {} for client in client_paths}\n",
    "\n",
    "# Iterate through the classes\n",
    "for class_folder in desired_distribution:\n",
    "    class_path = os.path.join(main_folder_path, class_folder)\n",
    "\n",
    "    # Check if the item is a directory (asubfolder)\n",
    "    if os.path.isdir(class_path):\n",
    "        class_images = os.listdir(class_path)\n",
    "        random.shuffle(class_images)  # Shuffle images randomly\n",
    "\n",
    "        # Iterate through clients and assign images\n",
    "        for i, client in enumerate(client_paths):\n",
    "            start = sum(desired_distribution[class_folder][:i])\n",
    "            end = sum(desired_distribution[class_folder][:i + 1])\n",
    "\n",
    "            # Check if the client path exists in the dictionary\n",
    "            if client in client_data:\n",
    "                client_data[client].setdefault(class_folder, []).extend(class_images[start:end])\n",
    "\n",
    "\n",
    "# Copy images to the corresponding client folders\n",
    "for client, distribution in client_data.items():\n",
    "    client_folder = os.path.join(client)\n",
    "    os.makedirs(client_folder, exist_ok=True)\n",
    "\n",
    "    for class_folder, images in distribution.items():\n",
    "        class_path = os.path.join(main_folder_path, class_folder)\n",
    "        dest_path = os.path.join(client_folder, class_folder)\n",
    "        os.makedirs(dest_path, exist_ok=True)\n",
    "\n",
    "        for image in images:\n",
    "            src_path = os.path.join(class_path, image)\n",
    "            dest_image_path = os.path.join(dest_path, image)\n",
    "            shutil.copy(src_path, dest_image_path)\n"
   ]
  },
  {
   "cell_type": "code",
   "execution_count": 4,
   "id": "8fa86acf",
   "metadata": {},
   "outputs": [],
   "source": [
    "from keras.preprocessing.image import ImageDataGenerator\n",
    "def load_img_data1():\n",
    "    img_size = (128,128)\n",
    "    datagen = ImageDataGenerator()\n",
    "    train_data = datagen.flow_from_directory(\n",
    "        directory=\"C:/Users/91898/Downloads/New folder_1/client1\",\n",
    "        target_size=img_size,\n",
    "        class_mode=\"categorical\",\n",
    "        batch_size=32,\n",
    "    )\n",
    "    \n",
    "    return train_data"
   ]
  },
  {
   "cell_type": "code",
   "execution_count": 5,
   "id": "b60f69bf",
   "metadata": {},
   "outputs": [],
   "source": [
    "from keras.preprocessing.image import ImageDataGenerator\n",
    "def load_img_data2():\n",
    "    img_size = (128,128)\n",
    "    datagen = ImageDataGenerator()\n",
    "    train_data = datagen.flow_from_directory(\n",
    "        directory=\"C:/Users/91898/Downloads/New folder_1/client2\",\n",
    "        target_size=img_size,\n",
    "        class_mode=\"categorical\",\n",
    "        batch_size=32,\n",
    "    )\n",
    "    \n",
    "    return train_data"
   ]
  },
  {
   "cell_type": "code",
   "execution_count": 6,
   "id": "d3d9ae96",
   "metadata": {},
   "outputs": [],
   "source": [
    "from keras.preprocessing.image import ImageDataGenerator\n",
    "def load_img_data3():\n",
    "    img_size = (128,128)\n",
    "    datagen = ImageDataGenerator()\n",
    "    train_data = datagen.flow_from_directory(\n",
    "        directory=\"C:/Users/91898/Downloads/New folder_1/client3\",\n",
    "        target_size=img_size,\n",
    "        class_mode=\"categorical\",\n",
    "        batch_size=32,\n",
    "    )\n",
    "    \n",
    "    return train_data"
   ]
  },
  {
   "cell_type": "code",
   "execution_count": 7,
   "id": "561abcce",
   "metadata": {},
   "outputs": [],
   "source": [
    "from keras.preprocessing.image import ImageDataGenerator\n",
    "def load_img_data4():\n",
    "    img_size = (128,128)\n",
    "    datagen = ImageDataGenerator()\n",
    "    train_data = datagen.flow_from_directory(\n",
    "        directory=\"C:/Users/91898/Downloads/New folder_1/client4\",\n",
    "        target_size=img_size,\n",
    "        class_mode=\"categorical\",\n",
    "        batch_size=32,\n",
    "    )\n",
    "    \n",
    "    return train_data"
   ]
  },
  {
   "cell_type": "code",
   "execution_count": 8,
   "id": "b8575e6b",
   "metadata": {},
   "outputs": [
    {
     "name": "stdout",
     "output_type": "stream",
     "text": [
      "Found 817 images belonging to 5 classes.\n",
      "Found 619 images belonging to 5 classes.\n",
      "Found 754 images belonging to 5 classes.\n",
      "Found 742 images belonging to 5 classes.\n"
     ]
    }
   ],
   "source": [
    "train1=load_img_data1()\n",
    "train2=load_img_data2()\n",
    "train3=load_img_data3()\n",
    "train4=load_img_data4()"
   ]
  },
  {
   "cell_type": "code",
   "execution_count": 9,
   "id": "958309a5",
   "metadata": {},
   "outputs": [],
   "source": [
    "from keras.preprocessing.image import ImageDataGenerator\n",
    "import numpy as np\n",
    "\n",
    "# def one_hot_encode_labels(labels):\n",
    "#     # Your one_hot_encode_labels function here\n",
    "def on_hot_encode_labels(lables):\n",
    "    aug_list=[]\n",
    "    for i in range(len(lables)):\n",
    "        if lables[i]==0:\n",
    "            aug_list.append([0,1,0,0,0])\n",
    "        elif lables[i]==1:\n",
    "            aug_list.append([1,0,0,0,0])\n",
    "        elif lables[i]==2:\n",
    "            aug_list.append([0,0,1,0,0])\n",
    "        elif lables[i]==3:\n",
    "            aug_list.append([0,0,0,1,0])\n",
    "        elif lables[i]==4:\n",
    "            aug_list.append([0,0,0,0,1])\n",
    "    return aug_list"
   ]
  },
  {
   "cell_type": "code",
   "execution_count": 10,
   "id": "dd4c976e",
   "metadata": {},
   "outputs": [],
   "source": [
    "from keras.preprocessing.image import ImageDataGenerator\n",
    "import numpy as np\n",
    "\n",
    "def load_img_data(test_data):\n",
    "    img_size = (128, 128)\n",
    "\n",
    "    # Load images and labels into numpy arrays\n",
    "    images = []\n",
    "    labels = []\n",
    "    for batch in test_data:\n",
    "        images.extend(batch[0])  # Load images from the batch\n",
    "        labels.extend(np.argmax(batch[1], axis=1))  # Convert one-hot labels to integers\n",
    "        if len(labels) >= len(test_data.filenames):\n",
    "            break\n",
    "\n",
    "    # Convert labels to one-hot encoded format\n",
    "    one_hot_labels = on_hot_encode_labels(labels)\n",
    "\n",
    "    return np.array(images), np.array(one_hot_labels)\n"
   ]
  },
  {
   "cell_type": "code",
   "execution_count": 11,
   "id": "7d5d80b1",
   "metadata": {},
   "outputs": [],
   "source": [
    "train1, label1 = load_img_data(train1)\n",
    "train2, label2 = load_img_data(train2)\n",
    "train3, label3 = load_img_data(train3)\n",
    "train4, label4 = load_img_data(train4)"
   ]
  },
  {
   "cell_type": "code",
   "execution_count": 12,
   "id": "a37a3551",
   "metadata": {},
   "outputs": [],
   "source": [
    "train1=train1/255\n",
    "train2=train2/255\n",
    "train3=train3/255\n",
    "train4=train4/255"
   ]
  },
  {
   "cell_type": "code",
   "execution_count": 13,
   "id": "8c222a3e",
   "metadata": {},
   "outputs": [],
   "source": [
    "import os\n",
    "import random\n",
    "import shutil\n",
    "\n",
    "main_folder_path = \"C:/Users/91898/Downloads/New folder_1\"\n",
    "client_paths = [\"C:/Users/91898/Downloads/New folder_1/test\"]\n",
    "desired_distribution = {\n",
    "    'im_Dyskeratotic': [200],\n",
    "    'im_Koilocytotic': [200],\n",
    "    'im_Metaplastic': [200],\n",
    "    'im_Parabasal': [200],\n",
    "    'im_Superficial-Intermediate': [200]\n",
    "}\n",
    "\n",
    "# Initialize client data dictionaries\n",
    "client_data = {client: {} for client in client_paths}\n",
    "\n",
    "# Iterate through the classes\n",
    "for class_folder in desired_distribution:\n",
    "    class_path = os.path.join(main_folder_path, class_folder)\n",
    "\n",
    "    # Check if the item is a directory (subfolder)\n",
    "    if os.path.isdir(class_path):\n",
    "        class_images = os.listdir(class_path)\n",
    "        random.shuffle(class_images)  # Shuffle images randomly\n",
    "\n",
    "        # Iterate through clients and assign images\n",
    "        for i, client in enumerate(client_paths):\n",
    "            start = sum(desired_distribution[class_folder][:i])\n",
    "            end = sum(desired_distribution[class_folder][:i + 1])\n",
    "\n",
    "            # Check if the client path exists in the dictionary\n",
    "            if client in client_data:\n",
    "                client_data[client].setdefault(class_folder, []).extend(class_images[start:end])\n",
    "\n",
    "# # Print the resulting distribution for each client\n",
    "# for client, distribution in client_data.items():\n",
    "#     print(f\"Client: {client}\")\n",
    "#     for class_folder, images in distribution.items():\n",
    "#         print(f\"  {class_folder}: {len(images)} images - {images[:5]}...\")\n",
    "\n",
    "# Copy images to the corresponding client folders\n",
    "for client, distribution in client_data.items():\n",
    "    client_folder = os.path.join(client)\n",
    "    os.makedirs(client_folder, exist_ok=True)\n",
    "\n",
    "    for class_folder, images in distribution.items():\n",
    "        class_path = os.path.join(main_folder_path, class_folder)\n",
    "        dest_path = os.path.join(client_folder, class_folder)\n",
    "        os.makedirs(dest_path, exist_ok=True)\n",
    "\n",
    "        for image in images:\n",
    "            src_path = os.path.join(class_path, image)\n",
    "            dest_image_path = os.path.join(dest_path, image)\n",
    "            shutil.copy(src_path, dest_image_path)\n"
   ]
  },
  {
   "cell_type": "code",
   "execution_count": 14,
   "id": "1ea6493a",
   "metadata": {},
   "outputs": [],
   "source": [
    "from keras.preprocessing.image import ImageDataGenerator\n",
    "def load_img_data():\n",
    "    img_size = (128,128)\n",
    "    datagen = ImageDataGenerator()\n",
    "    test_data = datagen.flow_from_directory(\n",
    "        directory=\"C:/Users/91898/Downloads/New folder_1/test\",\n",
    "        target_size=img_size,\n",
    "        class_mode=\"categorical\",\n",
    "        batch_size=32,\n",
    "    )\n",
    "    \n",
    "    return test_data"
   ]
  },
  {
   "cell_type": "code",
   "execution_count": 15,
   "id": "baaedbd4",
   "metadata": {},
   "outputs": [
    {
     "name": "stdout",
     "output_type": "stream",
     "text": [
      "Found 1000 images belonging to 5 classes.\n"
     ]
    }
   ],
   "source": [
    "test=load_img_data()"
   ]
  },
  {
   "cell_type": "code",
   "execution_count": 16,
   "id": "13d177f5",
   "metadata": {},
   "outputs": [],
   "source": [
    "from keras.preprocessing.image import ImageDataGenerator\n",
    "import numpy as np\n",
    "\n",
    "# def one_hot_encode_labels(labels):\n",
    "#     # Your one_hot_encode_labels function here\n",
    "def on_hot_encode_labels(lables):\n",
    "    aug_list=[]\n",
    "    for i in range(len(lables)):\n",
    "        if lables[i]==0:\n",
    "            aug_list.append([0,1,0,0,0])\n",
    "        elif lables[i]==1:\n",
    "            aug_list.append([1,0,0,0,0])\n",
    "        elif lables[i]==2:\n",
    "            aug_list.append([0,0,1,0,0])\n",
    "        elif lables[i]==3:\n",
    "            aug_list.append([0,0,0,1,0])\n",
    "        elif lables[i]==4:\n",
    "            aug_list.append([0,0,0,0,1])\n",
    "    return aug_list"
   ]
  },
  {
   "cell_type": "code",
   "execution_count": 17,
   "id": "ba2eb555",
   "metadata": {},
   "outputs": [],
   "source": [
    "from keras.preprocessing.image import ImageDataGenerator\n",
    "import numpy as np\n",
    "\n",
    "def load_img_data(test_data):\n",
    "    img_size = (128, 128)\n",
    "\n",
    "    # Load images and labels into numpy arrays\n",
    "    images = []\n",
    "    labels = []\n",
    "    for batch in test_data:\n",
    "        images.extend(batch[0])  # Load images from the batch\n",
    "        labels.extend(np.argmax(batch[1], axis=1))  # Convert one-hot labels to integers\n",
    "        if len(labels) >= len(test_data.filenames):\n",
    "            break\n",
    "\n",
    "    # Convert labels to one-hot encoded format\n",
    "    one_hot_labels = on_hot_encode_labels(labels)\n",
    "\n",
    "    return np.array(images), np.array(one_hot_labels)\n"
   ]
  },
  {
   "cell_type": "code",
   "execution_count": 18,
   "id": "b5ca9655",
   "metadata": {},
   "outputs": [],
   "source": [
    "test, one_hot_labels = load_img_data(test)"
   ]
  },
  {
   "cell_type": "code",
   "execution_count": 19,
   "id": "425072c2",
   "metadata": {},
   "outputs": [],
   "source": [
    "test=test/255"
   ]
  },
  {
   "cell_type": "code",
   "execution_count": 20,
   "id": "220ce5e0",
   "metadata": {},
   "outputs": [
    {
     "name": "stdout",
     "output_type": "stream",
     "text": [
      "Model: \"sequential\"\n",
      "_________________________________________________________________\n",
      " Layer (type)                Output Shape              Param #   \n",
      "=================================================================\n",
      " resnet101v2 (Functional)    (None, 4, 4, 2048)        42626560  \n",
      "                                                                 \n",
      " global_average_pooling2d (  (None, 2048)              0         \n",
      " GlobalAveragePooling2D)                                         \n",
      "                                                                 \n",
      " dense (Dense)               (None, 512)               1049088   \n",
      "                                                                 \n",
      " dense_1 (Dense)             (None, 128)               65664     \n",
      "                                                                 \n",
      " dense_2 (Dense)             (None, 5)                 645       \n",
      "                                                                 \n",
      "=================================================================\n",
      "Total params: 43741957 (166.86 MB)\n",
      "Trainable params: 1115397 (4.25 MB)\n",
      "Non-trainable params: 42626560 (162.61 MB)\n",
      "_________________________________________________________________\n"
     ]
    }
   ],
   "source": [
    "import tensorflow as tf\n",
    "import tensorflow_hub as hub\n",
    "from tensorflow.keras import layers, models, optimizers\n",
    "\n",
    "class SimpleMLP:\n",
    "    @staticmethod\n",
    "    def build():\n",
    "        # Load the ResNet101V2 model as the base model\n",
    "        base_model = tf.keras.applications.ResNet101V2(\n",
    "            include_top=False, weights='imagenet', input_shape=(128, 128, 3)\n",
    "        )\n",
    "        \n",
    "        # Freeze the base model's layers\n",
    "        base_model.trainable = False\n",
    "\n",
    "        # Create the transfer learning model by adding custom classification layers on top of the base model\n",
    "        model = tf.keras.models.Sequential([\n",
    "            base_model,\n",
    "            tf.keras.layers.GlobalAveragePooling2D(),\n",
    "            tf.keras.layers.Dense(512, activation='relu'),\n",
    "            # Optionally, you can add another dense layer\n",
    "            tf.keras.layers.Dense(128, activation='relu'),\n",
    "            tf.keras.layers.Dense(5, activation='softmax')  # Adjust the number of output classes accordingly\n",
    "        ])\n",
    "\n",
    "        # Compile the model\n",
    "        model.compile(\n",
    "            optimizer='adam',\n",
    "            loss='categorical_crossentropy',\n",
    "            metrics=['accuracy']\n",
    "        )\n",
    "\n",
    "        return model\n",
    "\n",
    "# Create an instance of the SimpleMLP model\n",
    "simple_mlp_model = SimpleMLP.build()\n",
    "global_model=simple_mlp_model\n",
    "\n",
    "# Display the model summary\n",
    "simple_mlp_model.summary()"
   ]
  },
  {
   "cell_type": "code",
   "execution_count": 21,
   "id": "ed3a0bf1",
   "metadata": {},
   "outputs": [],
   "source": [
    "def create_clients(data_dict):\n",
    "    '''\n",
    "    Return a dictionary with keys as client names and values as data and label lists.\n",
    "    Args: data_dict: A dictionary where keys are client names, and values are tuples of data and labels.\n",
    "                    For example, {'client_1': (data_1, labels_1), 'client_2': (data_2, labels_2), ...}\n",
    "    Returns: A dictionary with keys as client names and values as tuples of data and label lists.\n",
    "    '''\n",
    "    return data_dict\n",
    "\n",
    "import tensorflow as tf\n",
    "\n",
    "\n",
    "def test_model(test, one_hot_labels,  model, comm_round):\n",
    "    loss,accuracy=model.evaluate(test, one_hot_labels)\n",
    "    print('comm_round: {} | global_acc: {:.3%} | global_loss: {}'.format(comm_round, accuracy, loss))\n",
    "    return accuracy, loss\n",
    "\n",
    "\n",
    "def avg_weights(scaled_weight_list):\n",
    "    '''Return the average of the listed scaled weights.'''\n",
    "    num_clients = len(scaled_weight_list)\n",
    "\n",
    "    if num_clients == 0:\n",
    "        return None  # Handle the case where the list is empty\n",
    "\n",
    "    avg_grad = list()\n",
    "\n",
    "    # Get the sum of gradients across all client gradients\n",
    "    for grad_list_tuple in zip(*scaled_weight_list):\n",
    "        layer_mean = tf.math.reduce_sum(grad_list_tuple, axis=0) / num_clients\n",
    "        avg_grad.append(layer_mean)\n",
    "\n",
    "    return avg_grad\n",
    "\n",
    "\n",
    "client_data = {\n",
    "    'client_1': (train1,label1),\n",
    "    'client_2': (train2,label2),\n",
    "    'client_3': (train3,label3),\n",
    "    'client_4': (train4,label4)\n",
    "    \n",
    "}\n",
    "\n",
    "#create clients\n",
    "clients_batched = create_clients(client_data)"
   ]
  },
  {
   "cell_type": "code",
   "execution_count": 22,
   "id": "8df36f7a",
   "metadata": {},
   "outputs": [],
   "source": [
    "client_names = list(clients_batched.keys())"
   ]
  },
  {
   "cell_type": "code",
   "execution_count": 23,
   "id": "00e9adba",
   "metadata": {},
   "outputs": [
    {
     "data": {
      "text/plain": [
       "(817, 128, 128, 3)"
      ]
     },
     "execution_count": 23,
     "metadata": {},
     "output_type": "execute_result"
    }
   ],
   "source": [
    "train1.shape"
   ]
  },
  {
   "cell_type": "code",
   "execution_count": 24,
   "id": "b6bcea0b",
   "metadata": {},
   "outputs": [
    {
     "data": {
      "text/plain": [
       "(619, 128, 128, 3)"
      ]
     },
     "execution_count": 24,
     "metadata": {},
     "output_type": "execute_result"
    }
   ],
   "source": [
    "train2.shape"
   ]
  },
  {
   "cell_type": "code",
   "execution_count": 25,
   "id": "4333e562",
   "metadata": {},
   "outputs": [
    {
     "data": {
      "text/plain": [
       "(754, 128, 128, 3)"
      ]
     },
     "execution_count": 25,
     "metadata": {},
     "output_type": "execute_result"
    }
   ],
   "source": [
    "train3.shape"
   ]
  },
  {
   "cell_type": "code",
   "execution_count": 26,
   "id": "187ab02e",
   "metadata": {},
   "outputs": [
    {
     "data": {
      "text/plain": [
       "(742, 128, 128, 3)"
      ]
     },
     "execution_count": 26,
     "metadata": {},
     "output_type": "execute_result"
    }
   ],
   "source": [
    "train4.shape"
   ]
  },
  {
   "cell_type": "code",
   "execution_count": 27,
   "id": "ef82334b",
   "metadata": {},
   "outputs": [
    {
     "data": {
      "text/plain": [
       "array([[1, 0, 0, 0, 0],\n",
       "       [0, 0, 0, 0, 1],\n",
       "       [0, 1, 0, 0, 0],\n",
       "       ...,\n",
       "       [1, 0, 0, 0, 0],\n",
       "       [0, 0, 0, 1, 0],\n",
       "       [0, 0, 0, 0, 1]])"
      ]
     },
     "execution_count": 27,
     "metadata": {},
     "output_type": "execute_result"
    }
   ],
   "source": [
    "one_hot_labels"
   ]
  },
  {
   "cell_type": "code",
   "execution_count": 28,
   "id": "7a7d41d3",
   "metadata": {
    "scrolled": true
   },
   "outputs": [
    {
     "name": "stderr",
     "output_type": "stream",
     "text": [
      "\r",
      "Progress Bar:   0%|                                                                              | 0/4 [00:00<?, ?it/s]"
     ]
    },
    {
     "name": "stdout",
     "output_type": "stream",
     "text": [
      "Epoch 1/2\n",
      "20/20 - 22s - loss: 0.8804 - accuracy: 0.6446 - 22s/epoch - 1s/step\n",
      "Epoch 2/2\n",
      "20/20 - 15s - loss: 0.3096 - accuracy: 0.8885 - 15s/epoch - 742ms/step\n"
     ]
    },
    {
     "name": "stderr",
     "output_type": "stream",
     "text": [
      "\r",
      "Progress Bar:  25%|█████████████████▌                                                    | 1/4 [00:43<02:10, 43.55s/it]"
     ]
    },
    {
     "name": "stdout",
     "output_type": "stream",
     "text": [
      "Epoch 1/2\n",
      "24/24 - 27s - loss: 0.8485 - accuracy: 0.7082 - 27s/epoch - 1s/step\n",
      "Epoch 2/2\n",
      "24/24 - 22s - loss: 0.2339 - accuracy: 0.9151 - 22s/epoch - 915ms/step\n"
     ]
    },
    {
     "name": "stderr",
     "output_type": "stream",
     "text": [
      "\r",
      "Progress Bar:  50%|███████████████████████████████████                                   | 2/4 [01:38<01:41, 50.55s/it]"
     ]
    },
    {
     "name": "stdout",
     "output_type": "stream",
     "text": [
      "Epoch 1/2\n",
      "26/26 - 28s - loss: 0.8356 - accuracy: 0.7099 - 28s/epoch - 1s/step\n",
      "Epoch 2/2\n",
      "26/26 - 24s - loss: 0.2548 - accuracy: 0.9094 - 24s/epoch - 908ms/step\n"
     ]
    },
    {
     "name": "stderr",
     "output_type": "stream",
     "text": [
      "\r",
      "Progress Bar:  75%|████████████████████████████████████████████████████▌                 | 3/4 [02:37<00:54, 54.01s/it]"
     ]
    },
    {
     "name": "stdout",
     "output_type": "stream",
     "text": [
      "Epoch 1/2\n",
      "24/24 - 26s - loss: 0.9127 - accuracy: 0.6456 - 26s/epoch - 1s/step\n",
      "Epoch 2/2\n",
      "24/24 - 23s - loss: 0.3774 - accuracy: 0.8801 - 23s/epoch - 940ms/step\n"
     ]
    },
    {
     "name": "stderr",
     "output_type": "stream",
     "text": [
      "Progress Bar: 100%|██████████████████████████████████████████████████████████████████████| 4/4 [03:32<00:00, 53.17s/it]\n"
     ]
    },
    {
     "name": "stdout",
     "output_type": "stream",
     "text": [
      "32/32 [==============================] - 26s 699ms/step - loss: 0.4023 - accuracy: 0.8370\n",
      "comm_round: 0 | global_acc: 83.700% | global_loss: 0.4023454785346985\n"
     ]
    },
    {
     "name": "stderr",
     "output_type": "stream",
     "text": [
      "\r",
      "Progress Bar:   0%|                                                                              | 0/4 [00:00<?, ?it/s]"
     ]
    },
    {
     "name": "stdout",
     "output_type": "stream",
     "text": [
      "Epoch 1/2\n",
      "20/20 - 24s - loss: 0.4586 - accuracy: 0.8401 - 24s/epoch - 1s/step\n",
      "Epoch 2/2\n",
      "20/20 - 18s - loss: 0.2156 - accuracy: 0.9418 - 18s/epoch - 917ms/step\n"
     ]
    },
    {
     "name": "stderr",
     "output_type": "stream",
     "text": [
      "\r",
      "Progress Bar:  25%|█████████████████▌                                                    | 1/4 [00:48<02:26, 48.87s/it]"
     ]
    },
    {
     "name": "stdout",
     "output_type": "stream",
     "text": [
      "Epoch 1/2\n",
      "24/24 - 27s - loss: 0.4731 - accuracy: 0.8288 - 27s/epoch - 1s/step\n",
      "Epoch 2/2\n",
      "24/24 - 23s - loss: 0.2022 - accuracy: 0.9326 - 23s/epoch - 963ms/step\n"
     ]
    },
    {
     "name": "stderr",
     "output_type": "stream",
     "text": [
      "\r",
      "Progress Bar:  50%|███████████████████████████████████                                   | 2/4 [01:44<01:45, 53.00s/it]"
     ]
    },
    {
     "name": "stdout",
     "output_type": "stream",
     "text": [
      "Epoch 1/2\n",
      "24/24 - 28s - loss: 0.3924 - accuracy: 0.8634 - 28s/epoch - 1s/step\n",
      "Epoch 2/2\n",
      "24/24 - 23s - loss: 0.1420 - accuracy: 0.9562 - 23s/epoch - 967ms/step\n"
     ]
    },
    {
     "name": "stderr",
     "output_type": "stream",
     "text": [
      "\r",
      "Progress Bar:  75%|████████████████████████████████████████████████████▌                 | 3/4 [02:42<00:55, 55.11s/it]"
     ]
    },
    {
     "name": "stdout",
     "output_type": "stream",
     "text": [
      "Epoch 1/2\n",
      "26/26 - 31s - loss: 0.4039 - accuracy: 0.8433 - 31s/epoch - 1s/step\n",
      "Epoch 2/2\n",
      "26/26 - 27s - loss: 0.1313 - accuracy: 0.9621 - 27s/epoch - 1s/step\n"
     ]
    },
    {
     "name": "stderr",
     "output_type": "stream",
     "text": [
      "Progress Bar: 100%|██████████████████████████████████████████████████████████████████████| 4/4 [03:46<00:00, 56.66s/it]\n"
     ]
    },
    {
     "name": "stdout",
     "output_type": "stream",
     "text": [
      "32/32 [==============================] - 25s 740ms/step - loss: 0.2626 - accuracy: 0.9050\n",
      "comm_round: 1 | global_acc: 90.500% | global_loss: 0.26261311769485474\n"
     ]
    },
    {
     "name": "stderr",
     "output_type": "stream",
     "text": [
      "\r",
      "Progress Bar:   0%|                                                                              | 0/4 [00:00<?, ?it/s]"
     ]
    },
    {
     "name": "stdout",
     "output_type": "stream",
     "text": [
      "Epoch 1/2\n",
      "26/26 - 28s - loss: 0.2667 - accuracy: 0.9155 - 28s/epoch - 1s/step\n",
      "Epoch 2/2\n",
      "26/26 - 25s - loss: 0.1058 - accuracy: 0.9694 - 25s/epoch - 946ms/step\n"
     ]
    },
    {
     "name": "stderr",
     "output_type": "stream",
     "text": [
      "\r",
      "Progress Bar:  25%|█████████████████▌                                                    | 1/4 [00:59<02:57, 59.01s/it]"
     ]
    },
    {
     "name": "stdout",
     "output_type": "stream",
     "text": [
      "Epoch 1/2\n",
      "24/24 - 27s - loss: 0.3688 - accuracy: 0.8504 - 27s/epoch - 1s/step\n",
      "Epoch 2/2\n",
      "24/24 - 22s - loss: 0.1389 - accuracy: 0.9596 - 22s/epoch - 931ms/step\n"
     ]
    },
    {
     "name": "stderr",
     "output_type": "stream",
     "text": [
      "\r",
      "Progress Bar:  50%|███████████████████████████████████                                   | 2/4 [01:55<01:55, 57.58s/it]"
     ]
    },
    {
     "name": "stdout",
     "output_type": "stream",
     "text": [
      "Epoch 1/2\n",
      "24/24 - 28s - loss: 0.2879 - accuracy: 0.8899 - 28s/epoch - 1s/step\n",
      "Epoch 2/2\n",
      "24/24 - 23s - loss: 0.0867 - accuracy: 0.9708 - 23s/epoch - 960ms/step\n"
     ]
    },
    {
     "name": "stderr",
     "output_type": "stream",
     "text": [
      "\r",
      "Progress Bar:  75%|████████████████████████████████████████████████████▌                 | 3/4 [02:53<00:57, 57.52s/it]"
     ]
    },
    {
     "name": "stdout",
     "output_type": "stream",
     "text": [
      "Epoch 1/2\n",
      "20/20 - 25s - loss: 0.3058 - accuracy: 0.8885 - 25s/epoch - 1s/step\n",
      "Epoch 2/2\n",
      "20/20 - 20s - loss: 0.1192 - accuracy: 0.9709 - 20s/epoch - 998ms/step\n"
     ]
    },
    {
     "name": "stderr",
     "output_type": "stream",
     "text": [
      "Progress Bar: 100%|██████████████████████████████████████████████████████████████████████| 4/4 [03:44<00:00, 56.15s/it]\n"
     ]
    },
    {
     "name": "stdout",
     "output_type": "stream",
     "text": [
      "32/32 [==============================] - 25s 770ms/step - loss: 0.1921 - accuracy: 0.9310\n",
      "comm_round: 2 | global_acc: 93.100% | global_loss: 0.1921495497226715\n"
     ]
    },
    {
     "name": "stderr",
     "output_type": "stream",
     "text": [
      "\r",
      "Progress Bar:   0%|                                                                              | 0/4 [00:00<?, ?it/s]"
     ]
    },
    {
     "name": "stdout",
     "output_type": "stream",
     "text": [
      "Epoch 1/2\n",
      "24/24 - 27s - loss: 0.2246 - accuracy: 0.9204 - 27s/epoch - 1s/step\n",
      "Epoch 2/2\n",
      "24/24 - 23s - loss: 0.0709 - accuracy: 0.9841 - 23s/epoch - 948ms/step\n"
     ]
    },
    {
     "name": "stderr",
     "output_type": "stream",
     "text": [
      "\r",
      "Progress Bar:  25%|█████████████████▌                                                    | 1/4 [00:55<02:47, 55.81s/it]"
     ]
    },
    {
     "name": "stdout",
     "output_type": "stream",
     "text": [
      "Epoch 1/2\n",
      "26/26 - 31s - loss: 0.1981 - accuracy: 0.9315 - 31s/epoch - 1s/step\n",
      "Epoch 2/2\n",
      "26/26 - 28s - loss: 0.0779 - accuracy: 0.9792 - 28s/epoch - 1s/step\n"
     ]
    },
    {
     "name": "stderr",
     "output_type": "stream",
     "text": [
      "\r",
      "Progress Bar:  50%|███████████████████████████████████                                   | 2/4 [02:02<02:04, 62.12s/it]"
     ]
    },
    {
     "name": "stdout",
     "output_type": "stream",
     "text": [
      "Epoch 1/2\n",
      "24/24 - 28s - loss: 0.2534 - accuracy: 0.9070 - 28s/epoch - 1s/step\n",
      "Epoch 2/2\n",
      "24/24 - 23s - loss: 0.1231 - accuracy: 0.9690 - 23s/epoch - 968ms/step\n"
     ]
    },
    {
     "name": "stderr",
     "output_type": "stream",
     "text": [
      "\r",
      "Progress Bar:  75%|████████████████████████████████████████████████████▌                 | 3/4 [03:00<01:00, 60.21s/it]"
     ]
    },
    {
     "name": "stdout",
     "output_type": "stream",
     "text": [
      "Epoch 1/2\n",
      "20/20 - 23s - loss: 0.2258 - accuracy: 0.9176 - 23s/epoch - 1s/step\n",
      "Epoch 2/2\n",
      "20/20 - 20s - loss: 0.0872 - accuracy: 0.9758 - 20s/epoch - 986ms/step\n"
     ]
    },
    {
     "name": "stderr",
     "output_type": "stream",
     "text": [
      "Progress Bar: 100%|██████████████████████████████████████████████████████████████████████| 4/4 [03:50<00:00, 57.58s/it]\n"
     ]
    },
    {
     "name": "stdout",
     "output_type": "stream",
     "text": [
      "32/32 [==============================] - 31s 941ms/step - loss: 0.1522 - accuracy: 0.9420\n",
      "comm_round: 3 | global_acc: 94.200% | global_loss: 0.15219374001026154\n"
     ]
    },
    {
     "name": "stderr",
     "output_type": "stream",
     "text": [
      "\r",
      "Progress Bar:   0%|                                                                              | 0/4 [00:00<?, ?it/s]"
     ]
    },
    {
     "name": "stdout",
     "output_type": "stream",
     "text": [
      "Epoch 1/2\n",
      "20/20 - 28s - loss: 0.1821 - accuracy: 0.9305 - 28s/epoch - 1s/step\n",
      "Epoch 2/2\n",
      "20/20 - 32s - loss: 0.0705 - accuracy: 0.9742 - 32s/epoch - 2s/step\n"
     ]
    },
    {
     "name": "stderr",
     "output_type": "stream",
     "text": [
      "\r",
      "Progress Bar:  25%|█████████████████▌                                                    | 1/4 [01:05<03:15, 65.04s/it]"
     ]
    },
    {
     "name": "stdout",
     "output_type": "stream",
     "text": [
      "Epoch 1/2\n",
      "24/24 - 41s - loss: 0.1837 - accuracy: 0.9420 - 41s/epoch - 2s/step\n",
      "Epoch 2/2\n",
      "24/24 - 33s - loss: 0.0733 - accuracy: 0.9730 - 33s/epoch - 1s/step\n"
     ]
    },
    {
     "name": "stderr",
     "output_type": "stream",
     "text": [
      "\r",
      "Progress Bar:  50%|███████████████████████████████████                                   | 2/4 [02:25<02:28, 74.21s/it]"
     ]
    },
    {
     "name": "stdout",
     "output_type": "stream",
     "text": [
      "Epoch 1/2\n",
      "26/26 - 43s - loss: 0.1690 - accuracy: 0.9437 - 43s/epoch - 2s/step\n",
      "Epoch 2/2\n",
      "26/26 - 34s - loss: 0.1158 - accuracy: 0.9596 - 34s/epoch - 1s/step\n"
     ]
    },
    {
     "name": "stderr",
     "output_type": "stream",
     "text": [
      "\r",
      "Progress Bar:  75%|████████████████████████████████████████████████████▌                 | 3/4 [03:48<01:18, 78.23s/it]"
     ]
    },
    {
     "name": "stdout",
     "output_type": "stream",
     "text": [
      "Epoch 1/2\n",
      "24/24 - 46s - loss: 0.1813 - accuracy: 0.9310 - 46s/epoch - 2s/step\n",
      "Epoch 2/2\n",
      "24/24 - 34s - loss: 0.0651 - accuracy: 0.9814 - 34s/epoch - 1s/step\n"
     ]
    },
    {
     "name": "stderr",
     "output_type": "stream",
     "text": [
      "Progress Bar: 100%|██████████████████████████████████████████████████████████████████████| 4/4 [05:15<00:00, 78.76s/it]\n"
     ]
    },
    {
     "name": "stdout",
     "output_type": "stream",
     "text": [
      "32/32 [==============================] - 43s 1s/step - loss: 0.1429 - accuracy: 0.9490\n",
      "comm_round: 4 | global_acc: 94.900% | global_loss: 0.14289246499538422\n"
     ]
    },
    {
     "name": "stderr",
     "output_type": "stream",
     "text": [
      "\r",
      "Progress Bar:   0%|                                                                              | 0/4 [00:00<?, ?it/s]"
     ]
    },
    {
     "name": "stdout",
     "output_type": "stream",
     "text": [
      "Epoch 1/2\n",
      "26/26 - 44s - loss: 0.0932 - accuracy: 0.9682 - 44s/epoch - 2s/step\n",
      "Epoch 2/2\n",
      "26/26 - 40s - loss: 0.0661 - accuracy: 0.9743 - 40s/epoch - 2s/step\n"
     ]
    },
    {
     "name": "stderr",
     "output_type": "stream",
     "text": [
      "\r",
      "Progress Bar:  25%|█████████████████▌                                                    | 1/4 [01:31<04:34, 91.59s/it]"
     ]
    },
    {
     "name": "stdout",
     "output_type": "stream",
     "text": [
      "Epoch 1/2\n",
      "24/24 - 39s - loss: 0.1445 - accuracy: 0.9394 - 39s/epoch - 2s/step\n",
      "Epoch 2/2\n",
      "24/24 - 39s - loss: 0.0653 - accuracy: 0.9730 - 39s/epoch - 2s/step\n"
     ]
    },
    {
     "name": "stderr",
     "output_type": "stream",
     "text": [
      "\r",
      "Progress Bar:  50%|███████████████████████████████████                                   | 2/4 [02:56<02:55, 87.82s/it]"
     ]
    },
    {
     "name": "stdout",
     "output_type": "stream",
     "text": [
      "Epoch 1/2\n",
      "20/20 - 37s - loss: 0.1115 - accuracy: 0.9645 - 37s/epoch - 2s/step\n",
      "Epoch 2/2\n",
      "20/20 - 23s - loss: 0.0294 - accuracy: 0.9935 - 23s/epoch - 1s/step\n"
     ]
    },
    {
     "name": "stderr",
     "output_type": "stream",
     "text": [
      "\r",
      "Progress Bar:  75%|████████████████████████████████████████████████████▌                 | 3/4 [04:03<01:18, 78.07s/it]"
     ]
    },
    {
     "name": "stdout",
     "output_type": "stream",
     "text": [
      "Epoch 1/2\n",
      "24/24 - 43s - loss: 0.1642 - accuracy: 0.9363 - 43s/epoch - 2s/step\n",
      "Epoch 2/2\n",
      "24/24 - 39s - loss: 0.0409 - accuracy: 0.9907 - 39s/epoch - 2s/step\n"
     ]
    },
    {
     "name": "stderr",
     "output_type": "stream",
     "text": [
      "Progress Bar: 100%|██████████████████████████████████████████████████████████████████████| 4/4 [05:31<00:00, 82.93s/it]\n"
     ]
    },
    {
     "name": "stdout",
     "output_type": "stream",
     "text": [
      "32/32 [==============================] - 50s 2s/step - loss: 0.1222 - accuracy: 0.9530\n",
      "comm_round: 5 | global_acc: 95.300% | global_loss: 0.1222047433257103\n"
     ]
    },
    {
     "name": "stderr",
     "output_type": "stream",
     "text": [
      "\r",
      "Progress Bar:   0%|                                                                              | 0/4 [00:00<?, ?it/s]"
     ]
    },
    {
     "name": "stdout",
     "output_type": "stream",
     "text": [
      "Epoch 1/2\n",
      "26/26 - 46s - loss: 0.0977 - accuracy: 0.9621 - 46s/epoch - 2s/step\n",
      "Epoch 2/2\n",
      "26/26 - 39s - loss: 0.0399 - accuracy: 0.9841 - 39s/epoch - 1s/step\n"
     ]
    },
    {
     "name": "stderr",
     "output_type": "stream",
     "text": [
      "\r",
      "Progress Bar:  25%|█████████████████▌                                                    | 1/4 [01:32<04:36, 92.20s/it]"
     ]
    },
    {
     "name": "stdout",
     "output_type": "stream",
     "text": [
      "Epoch 1/2\n",
      "20/20 - 38s - loss: 0.0975 - accuracy: 0.9596 - 38s/epoch - 2s/step\n",
      "Epoch 2/2\n",
      "20/20 - 27s - loss: 0.0302 - accuracy: 0.9903 - 27s/epoch - 1s/step\n"
     ]
    },
    {
     "name": "stderr",
     "output_type": "stream",
     "text": [
      "\r",
      "Progress Bar:  50%|███████████████████████████████████                                   | 2/4 [02:43<02:39, 79.83s/it]"
     ]
    },
    {
     "name": "stdout",
     "output_type": "stream",
     "text": [
      "Epoch 1/2\n",
      "24/24 - 40s - loss: 0.1199 - accuracy: 0.9642 - 40s/epoch - 2s/step\n",
      "Epoch 2/2\n",
      "24/24 - 37s - loss: 0.0464 - accuracy: 0.9881 - 37s/epoch - 2s/step\n"
     ]
    },
    {
     "name": "stderr",
     "output_type": "stream",
     "text": [
      "\r",
      "Progress Bar:  75%|████████████████████████████████████████████████████▌                 | 3/4 [04:06<01:21, 81.25s/it]"
     ]
    },
    {
     "name": "stdout",
     "output_type": "stream",
     "text": [
      "Epoch 1/2\n",
      "24/24 - 43s - loss: 0.1487 - accuracy: 0.9488 - 43s/epoch - 2s/step\n",
      "Epoch 2/2\n",
      "24/24 - 33s - loss: 0.0519 - accuracy: 0.9825 - 33s/epoch - 1s/step\n"
     ]
    },
    {
     "name": "stderr",
     "output_type": "stream",
     "text": [
      "Progress Bar: 100%|██████████████████████████████████████████████████████████████████████| 4/4 [05:28<00:00, 82.14s/it]\n"
     ]
    },
    {
     "name": "stdout",
     "output_type": "stream",
     "text": [
      "32/32 [==============================] - 45s 1s/step - loss: 0.1180 - accuracy: 0.9600\n",
      "comm_round: 6 | global_acc: 96.000% | global_loss: 0.11800704896450043\n"
     ]
    },
    {
     "name": "stderr",
     "output_type": "stream",
     "text": [
      "\r",
      "Progress Bar:   0%|                                                                              | 0/4 [00:00<?, ?it/s]"
     ]
    },
    {
     "name": "stdout",
     "output_type": "stream",
     "text": [
      "Epoch 1/2\n",
      "24/24 - 43s - loss: 0.1076 - accuracy: 0.9677 - 43s/epoch - 2s/step\n",
      "Epoch 2/2\n",
      "24/24 - 38s - loss: 0.0868 - accuracy: 0.9704 - 38s/epoch - 2s/step\n"
     ]
    },
    {
     "name": "stderr",
     "output_type": "stream",
     "text": [
      "\r",
      "Progress Bar:  25%|█████████████████▌                                                    | 1/4 [01:27<04:21, 87.32s/it]"
     ]
    },
    {
     "name": "stdout",
     "output_type": "stream",
     "text": [
      "Epoch 1/2\n",
      "24/24 - 44s - loss: 0.1151 - accuracy: 0.9602 - 44s/epoch - 2s/step\n",
      "Epoch 2/2\n",
      "24/24 - 37s - loss: 0.0255 - accuracy: 0.9934 - 37s/epoch - 2s/step\n"
     ]
    },
    {
     "name": "stderr",
     "output_type": "stream",
     "text": [
      "\r",
      "Progress Bar:  50%|███████████████████████████████████                                   | 2/4 [02:55<02:55, 87.79s/it]"
     ]
    },
    {
     "name": "stdout",
     "output_type": "stream",
     "text": [
      "Epoch 1/2\n",
      "26/26 - 49s - loss: 0.0788 - accuracy: 0.9743 - 49s/epoch - 2s/step\n",
      "Epoch 2/2\n",
      "26/26 - 41s - loss: 0.0611 - accuracy: 0.9829 - 41s/epoch - 2s/step\n"
     ]
    },
    {
     "name": "stderr",
     "output_type": "stream",
     "text": [
      "\r",
      "Progress Bar:  75%|████████████████████████████████████████████████████▌                 | 3/4 [04:31<01:31, 91.77s/it]"
     ]
    },
    {
     "name": "stdout",
     "output_type": "stream",
     "text": [
      "Epoch 1/2\n",
      "20/20 - 40s - loss: 0.0939 - accuracy: 0.9661 - 40s/epoch - 2s/step\n",
      "Epoch 2/2\n",
      "20/20 - 34s - loss: 0.0405 - accuracy: 0.9871 - 34s/epoch - 2s/step\n"
     ]
    },
    {
     "name": "stderr",
     "output_type": "stream",
     "text": [
      "Progress Bar: 100%|██████████████████████████████████████████████████████████████████████| 4/4 [05:52<00:00, 88.23s/it]\n"
     ]
    },
    {
     "name": "stdout",
     "output_type": "stream",
     "text": [
      "32/32 [==============================] - 59s 2s/step - loss: 0.1041 - accuracy: 0.9630\n",
      "comm_round: 7 | global_acc: 96.300% | global_loss: 0.10409533232450485\n"
     ]
    },
    {
     "name": "stderr",
     "output_type": "stream",
     "text": [
      "\r",
      "Progress Bar:   0%|                                                                              | 0/4 [00:00<?, ?it/s]"
     ]
    },
    {
     "name": "stdout",
     "output_type": "stream",
     "text": [
      "Epoch 1/2\n",
      "24/24 - 47s - loss: 0.0903 - accuracy: 0.9690 - 47s/epoch - 2s/step\n",
      "Epoch 2/2\n",
      "24/24 - 37s - loss: 0.0242 - accuracy: 0.9933 - 37s/epoch - 2s/step\n"
     ]
    },
    {
     "name": "stderr",
     "output_type": "stream",
     "text": [
      "\r",
      "Progress Bar:  25%|█████████████████▌                                                    | 1/4 [01:30<04:32, 90.95s/it]"
     ]
    },
    {
     "name": "stdout",
     "output_type": "stream",
     "text": [
      "Epoch 1/2\n",
      "20/20 - 39s - loss: 0.0529 - accuracy: 0.9806 - 39s/epoch - 2s/step\n",
      "Epoch 2/2\n",
      "20/20 - 32s - loss: 0.0291 - accuracy: 0.9855 - 32s/epoch - 2s/step\n"
     ]
    },
    {
     "name": "stderr",
     "output_type": "stream",
     "text": [
      "\r",
      "Progress Bar:  50%|███████████████████████████████████                                   | 2/4 [02:48<02:45, 82.89s/it]"
     ]
    },
    {
     "name": "stdout",
     "output_type": "stream",
     "text": [
      "Epoch 1/2\n",
      "24/24 - 48s - loss: 0.1212 - accuracy: 0.9589 - 48s/epoch - 2s/step\n",
      "Epoch 2/2\n",
      "24/24 - 38s - loss: 0.0377 - accuracy: 0.9907 - 38s/epoch - 2s/step\n"
     ]
    },
    {
     "name": "stderr",
     "output_type": "stream",
     "text": [
      "\r",
      "Progress Bar:  75%|████████████████████████████████████████████████████▌                 | 3/4 [04:20<01:27, 87.13s/it]"
     ]
    },
    {
     "name": "stdout",
     "output_type": "stream",
     "text": [
      "Epoch 1/2\n",
      "26/26 - 51s - loss: 0.1054 - accuracy: 0.9731 - 51s/epoch - 2s/step\n",
      "Epoch 2/2\n",
      "26/26 - 42s - loss: 0.0266 - accuracy: 0.9939 - 42s/epoch - 2s/step\n"
     ]
    },
    {
     "name": "stderr",
     "output_type": "stream",
     "text": [
      "Progress Bar: 100%|██████████████████████████████████████████████████████████████████████| 4/4 [06:00<00:00, 90.05s/it]\n"
     ]
    },
    {
     "name": "stdout",
     "output_type": "stream",
     "text": [
      "32/32 [==============================] - 54s 2s/step - loss: 0.1133 - accuracy: 0.9610\n",
      "comm_round: 8 | global_acc: 96.100% | global_loss: 0.11330536007881165\n"
     ]
    },
    {
     "name": "stderr",
     "output_type": "stream",
     "text": [
      "\r",
      "Progress Bar:   0%|                                                                              | 0/4 [00:00<?, ?it/s]"
     ]
    },
    {
     "name": "stdout",
     "output_type": "stream",
     "text": [
      "Epoch 1/2\n",
      "26/26 - 46s - loss: 0.0336 - accuracy: 0.9902 - 46s/epoch - 2s/step\n",
      "Epoch 2/2\n",
      "26/26 - 36s - loss: 0.0613 - accuracy: 0.9816 - 36s/epoch - 1s/step\n"
     ]
    },
    {
     "name": "stderr",
     "output_type": "stream",
     "text": [
      "\r",
      "Progress Bar:  25%|█████████████████▌                                                    | 1/4 [01:29<04:27, 89.19s/it]"
     ]
    },
    {
     "name": "stdout",
     "output_type": "stream",
     "text": [
      "Epoch 1/2\n",
      "20/20 - 40s - loss: 0.0669 - accuracy: 0.9742 - 40s/epoch - 2s/step\n",
      "Epoch 2/2\n",
      "20/20 - 31s - loss: 0.0337 - accuracy: 0.9903 - 31s/epoch - 2s/step\n"
     ]
    },
    {
     "name": "stderr",
     "output_type": "stream",
     "text": [
      "\r",
      "Progress Bar:  50%|███████████████████████████████████                                   | 2/4 [02:46<02:43, 81.96s/it]"
     ]
    },
    {
     "name": "stdout",
     "output_type": "stream",
     "text": [
      "Epoch 1/2\n",
      "24/24 - 46s - loss: 0.0968 - accuracy: 0.9730 - 46s/epoch - 2s/step\n",
      "Epoch 2/2\n",
      "24/24 - 38s - loss: 0.0432 - accuracy: 0.9919 - 38s/epoch - 2s/step\n"
     ]
    },
    {
     "name": "stderr",
     "output_type": "stream",
     "text": [
      "\r",
      "Progress Bar:  75%|████████████████████████████████████████████████████▌                 | 3/4 [04:16<01:25, 85.86s/it]"
     ]
    },
    {
     "name": "stdout",
     "output_type": "stream",
     "text": [
      "Epoch 1/2\n",
      "24/24 - 42s - loss: 0.0499 - accuracy: 0.9788 - 42s/epoch - 2s/step\n",
      "Epoch 2/2\n",
      "24/24 - 36s - loss: 0.0300 - accuracy: 0.9894 - 36s/epoch - 1s/step\n"
     ]
    },
    {
     "name": "stderr",
     "output_type": "stream",
     "text": [
      "Progress Bar: 100%|██████████████████████████████████████████████████████████████████████| 4/4 [05:41<00:00, 85.31s/it]\n"
     ]
    },
    {
     "name": "stdout",
     "output_type": "stream",
     "text": [
      "32/32 [==============================] - 47s 1s/step - loss: 0.1004 - accuracy: 0.9680\n",
      "comm_round: 9 | global_acc: 96.800% | global_loss: 0.10038813203573227\n"
     ]
    },
    {
     "name": "stderr",
     "output_type": "stream",
     "text": [
      "\r",
      "Progress Bar:   0%|                                                                              | 0/4 [00:00<?, ?it/s]"
     ]
    },
    {
     "name": "stdout",
     "output_type": "stream",
     "text": [
      "Epoch 1/2\n",
      "20/20 - 42s - loss: 0.0447 - accuracy: 0.9838 - 42s/epoch - 2s/step\n",
      "Epoch 2/2\n",
      "20/20 - 34s - loss: 0.0317 - accuracy: 0.9855 - 34s/epoch - 2s/step\n"
     ]
    },
    {
     "name": "stderr",
     "output_type": "stream",
     "text": [
      "\r",
      "Progress Bar:  25%|█████████████████▌                                                    | 1/4 [01:22<04:08, 82.95s/it]"
     ]
    },
    {
     "name": "stdout",
     "output_type": "stream",
     "text": [
      "Epoch 1/2\n",
      "26/26 - 53s - loss: 0.0532 - accuracy: 0.9841 - 53s/epoch - 2s/step\n",
      "Epoch 2/2\n",
      "26/26 - 45s - loss: 0.0373 - accuracy: 0.9902 - 45s/epoch - 2s/step\n"
     ]
    },
    {
     "name": "stderr",
     "output_type": "stream",
     "text": [
      "\r",
      "Progress Bar:  50%|███████████████████████████████████                                   | 2/4 [03:07<03:11, 95.81s/it]"
     ]
    },
    {
     "name": "stdout",
     "output_type": "stream",
     "text": [
      "Epoch 1/2\n",
      "24/24 - 42s - loss: 0.0499 - accuracy: 0.9841 - 42s/epoch - 2s/step\n",
      "Epoch 2/2\n",
      "24/24 - 36s - loss: 0.0225 - accuracy: 0.9907 - 36s/epoch - 2s/step\n"
     ]
    },
    {
     "name": "stderr",
     "output_type": "stream",
     "text": [
      "\r",
      "Progress Bar:  75%|████████████████████████████████████████████████████▌                 | 3/4 [04:33<01:31, 91.27s/it]"
     ]
    },
    {
     "name": "stdout",
     "output_type": "stream",
     "text": [
      "Epoch 1/2\n",
      "24/24 - 45s - loss: 0.0704 - accuracy: 0.9852 - 45s/epoch - 2s/step\n",
      "Epoch 2/2\n",
      "24/24 - 36s - loss: 0.0158 - accuracy: 0.9946 - 36s/epoch - 2s/step\n"
     ]
    },
    {
     "name": "stderr",
     "output_type": "stream",
     "text": [
      "Progress Bar: 100%|██████████████████████████████████████████████████████████████████████| 4/4 [06:01<00:00, 90.30s/it]\n"
     ]
    },
    {
     "name": "stdout",
     "output_type": "stream",
     "text": [
      "32/32 [==============================] - 46s 1s/step - loss: 0.1059 - accuracy: 0.9670\n",
      "comm_round: 10 | global_acc: 96.700% | global_loss: 0.10589277744293213\n"
     ]
    },
    {
     "name": "stderr",
     "output_type": "stream",
     "text": [
      "\r",
      "Progress Bar:   0%|                                                                              | 0/4 [00:00<?, ?it/s]"
     ]
    },
    {
     "name": "stdout",
     "output_type": "stream",
     "text": [
      "Epoch 1/2\n",
      "24/24 - 42s - loss: 0.0648 - accuracy: 0.9775 - 42s/epoch - 2s/step\n",
      "Epoch 2/2\n",
      "24/24 - 37s - loss: 0.0307 - accuracy: 0.9894 - 37s/epoch - 2s/step\n"
     ]
    },
    {
     "name": "stderr",
     "output_type": "stream",
     "text": [
      "\r",
      "Progress Bar:  25%|█████████████████▌                                                    | 1/4 [01:24<04:14, 84.91s/it]"
     ]
    },
    {
     "name": "stdout",
     "output_type": "stream",
     "text": [
      "Epoch 1/2\n",
      "26/26 - 53s - loss: 0.0761 - accuracy: 0.9792 - 53s/epoch - 2s/step\n",
      "Epoch 2/2\n",
      "26/26 - 38s - loss: 0.0486 - accuracy: 0.9853 - 38s/epoch - 1s/step\n"
     ]
    },
    {
     "name": "stderr",
     "output_type": "stream",
     "text": [
      "\r",
      "Progress Bar:  50%|███████████████████████████████████                                   | 2/4 [03:02<03:04, 92.38s/it]"
     ]
    },
    {
     "name": "stdout",
     "output_type": "stream",
     "text": [
      "Epoch 1/2\n",
      "20/20 - 34s - loss: 0.0527 - accuracy: 0.9822 - 34s/epoch - 2s/step\n",
      "Epoch 2/2\n",
      "20/20 - 35s - loss: 0.0502 - accuracy: 0.9887 - 35s/epoch - 2s/step\n"
     ]
    },
    {
     "name": "stderr",
     "output_type": "stream",
     "text": [
      "\r",
      "Progress Bar:  75%|████████████████████████████████████████████████████▌                 | 3/4 [04:18<01:24, 84.68s/it]"
     ]
    },
    {
     "name": "stdout",
     "output_type": "stream",
     "text": [
      "Epoch 1/2\n",
      "24/24 - 43s - loss: 0.0587 - accuracy: 0.9784 - 43s/epoch - 2s/step\n",
      "Epoch 2/2\n",
      "24/24 - 39s - loss: 0.0694 - accuracy: 0.9852 - 39s/epoch - 2s/step\n"
     ]
    },
    {
     "name": "stderr",
     "output_type": "stream",
     "text": [
      "Progress Bar: 100%|██████████████████████████████████████████████████████████████████████| 4/4 [05:47<00:00, 86.75s/it]\n"
     ]
    },
    {
     "name": "stdout",
     "output_type": "stream",
     "text": [
      "32/32 [==============================] - 50s 2s/step - loss: 0.0882 - accuracy: 0.9730\n",
      "comm_round: 11 | global_acc: 97.300% | global_loss: 0.08818008750677109\n"
     ]
    },
    {
     "name": "stderr",
     "output_type": "stream",
     "text": [
      "\r",
      "Progress Bar:   0%|                                                                              | 0/4 [00:00<?, ?it/s]"
     ]
    },
    {
     "name": "stdout",
     "output_type": "stream",
     "text": [
      "Epoch 1/2\n",
      "24/24 - 43s - loss: 0.0317 - accuracy: 0.9879 - 43s/epoch - 2s/step\n",
      "Epoch 2/2\n",
      "24/24 - 36s - loss: 0.0112 - accuracy: 0.9987 - 36s/epoch - 2s/step\n"
     ]
    },
    {
     "name": "stderr",
     "output_type": "stream",
     "text": [
      "\r",
      "Progress Bar:  25%|█████████████████▌                                                    | 1/4 [01:26<04:18, 86.02s/it]"
     ]
    },
    {
     "name": "stdout",
     "output_type": "stream",
     "text": [
      "Epoch 1/2\n",
      "24/24 - 43s - loss: 0.0456 - accuracy: 0.9814 - 43s/epoch - 2s/step\n",
      "Epoch 2/2\n",
      "24/24 - 38s - loss: 0.0591 - accuracy: 0.9828 - 38s/epoch - 2s/step\n"
     ]
    },
    {
     "name": "stderr",
     "output_type": "stream",
     "text": [
      "\r",
      "Progress Bar:  50%|███████████████████████████████████                                   | 2/4 [02:53<02:53, 86.83s/it]"
     ]
    },
    {
     "name": "stdout",
     "output_type": "stream",
     "text": [
      "Epoch 1/2\n",
      "26/26 - 47s - loss: 0.0262 - accuracy: 0.9914 - 47s/epoch - 2s/step\n",
      "Epoch 2/2\n",
      "26/26 - 39s - loss: 0.0857 - accuracy: 0.9767 - 39s/epoch - 2s/step\n"
     ]
    },
    {
     "name": "stderr",
     "output_type": "stream",
     "text": [
      "\r",
      "Progress Bar:  75%|████████████████████████████████████████████████████▌                 | 3/4 [04:26<01:29, 89.60s/it]"
     ]
    },
    {
     "name": "stdout",
     "output_type": "stream",
     "text": [
      "Epoch 1/2\n",
      "20/20 - 36s - loss: 0.0229 - accuracy: 0.9903 - 36s/epoch - 2s/step\n",
      "Epoch 2/2\n",
      "20/20 - 29s - loss: 0.0728 - accuracy: 0.9790 - 29s/epoch - 1s/step\n"
     ]
    },
    {
     "name": "stderr",
     "output_type": "stream",
     "text": [
      "Progress Bar: 100%|██████████████████████████████████████████████████████████████████████| 4/4 [05:39<00:00, 84.78s/it]\n"
     ]
    },
    {
     "name": "stdout",
     "output_type": "stream",
     "text": [
      "32/32 [==============================] - 46s 1s/step - loss: 0.1136 - accuracy: 0.9730\n",
      "comm_round: 12 | global_acc: 97.300% | global_loss: 0.11362814903259277\n"
     ]
    },
    {
     "name": "stderr",
     "output_type": "stream",
     "text": [
      "\r",
      "Progress Bar:   0%|                                                                              | 0/4 [00:00<?, ?it/s]"
     ]
    },
    {
     "name": "stdout",
     "output_type": "stream",
     "text": [
      "Epoch 1/2\n",
      "24/24 - 42s - loss: 0.0530 - accuracy: 0.9865 - 42s/epoch - 2s/step\n",
      "Epoch 2/2\n",
      "24/24 - 38s - loss: 0.0482 - accuracy: 0.9879 - 38s/epoch - 2s/step\n"
     ]
    },
    {
     "name": "stderr",
     "output_type": "stream",
     "text": [
      "\r",
      "Progress Bar:  25%|█████████████████▌                                                    | 1/4 [01:26<04:19, 86.46s/it]"
     ]
    },
    {
     "name": "stdout",
     "output_type": "stream",
     "text": [
      "Epoch 1/2\n",
      "20/20 - 36s - loss: 0.0492 - accuracy: 0.9838 - 36s/epoch - 2s/step\n",
      "Epoch 2/2\n",
      "20/20 - 31s - loss: 0.0666 - accuracy: 0.9838 - 31s/epoch - 2s/step\n"
     ]
    },
    {
     "name": "stderr",
     "output_type": "stream",
     "text": [
      "\r",
      "Progress Bar:  50%|███████████████████████████████████                                   | 2/4 [02:39<02:37, 78.66s/it]"
     ]
    },
    {
     "name": "stdout",
     "output_type": "stream",
     "text": [
      "Epoch 1/2\n",
      "26/26 - 49s - loss: 0.0400 - accuracy: 0.9902 - 49s/epoch - 2s/step\n",
      "Epoch 2/2\n",
      "26/26 - 45s - loss: 0.0939 - accuracy: 0.9767 - 45s/epoch - 2s/step\n"
     ]
    },
    {
     "name": "stderr",
     "output_type": "stream",
     "text": [
      "\r",
      "Progress Bar:  75%|████████████████████████████████████████████████████▌                 | 3/4 [04:20<01:28, 88.96s/it]"
     ]
    },
    {
     "name": "stdout",
     "output_type": "stream",
     "text": [
      "Epoch 1/2\n",
      "24/24 - 44s - loss: 0.0374 - accuracy: 0.9828 - 44s/epoch - 2s/step\n",
      "Epoch 2/2\n",
      "24/24 - 43s - loss: 0.0096 - accuracy: 0.9960 - 43s/epoch - 2s/step\n"
     ]
    },
    {
     "name": "stderr",
     "output_type": "stream",
     "text": [
      "Progress Bar: 100%|██████████████████████████████████████████████████████████████████████| 4/4 [05:55<00:00, 88.82s/it]\n"
     ]
    },
    {
     "name": "stdout",
     "output_type": "stream",
     "text": [
      "32/32 [==============================] - 55s 2s/step - loss: 0.1508 - accuracy: 0.9640\n",
      "comm_round: 13 | global_acc: 96.400% | global_loss: 0.1507912278175354\n"
     ]
    },
    {
     "name": "stderr",
     "output_type": "stream",
     "text": [
      "\r",
      "Progress Bar:   0%|                                                                              | 0/4 [00:00<?, ?it/s]"
     ]
    },
    {
     "name": "stdout",
     "output_type": "stream",
     "text": [
      "Epoch 1/2\n",
      "20/20 - 34s - loss: 0.0350 - accuracy: 0.9887 - 34s/epoch - 2s/step\n",
      "Epoch 2/2\n",
      "20/20 - 31s - loss: 0.0397 - accuracy: 0.9871 - 31s/epoch - 2s/step\n"
     ]
    },
    {
     "name": "stderr",
     "output_type": "stream",
     "text": [
      "\r",
      "Progress Bar:  25%|█████████████████▌                                                    | 1/4 [01:11<03:33, 71.05s/it]"
     ]
    },
    {
     "name": "stdout",
     "output_type": "stream",
     "text": [
      "Epoch 1/2\n",
      "24/24 - 42s - loss: 0.0299 - accuracy: 0.9906 - 42s/epoch - 2s/step\n",
      "Epoch 2/2\n",
      "24/24 - 39s - loss: 0.0561 - accuracy: 0.9852 - 39s/epoch - 2s/step\n"
     ]
    },
    {
     "name": "stderr",
     "output_type": "stream",
     "text": [
      "\r",
      "Progress Bar:  50%|███████████████████████████████████                                   | 2/4 [02:38<02:41, 80.61s/it]"
     ]
    },
    {
     "name": "stdout",
     "output_type": "stream",
     "text": [
      "Epoch 1/2\n",
      "26/26 - 49s - loss: 0.0166 - accuracy: 0.9951 - 49s/epoch - 2s/step\n",
      "Epoch 2/2\n",
      "26/26 - 45s - loss: 0.0630 - accuracy: 0.9816 - 45s/epoch - 2s/step\n"
     ]
    },
    {
     "name": "stderr",
     "output_type": "stream",
     "text": [
      "\r",
      "Progress Bar:  75%|████████████████████████████████████████████████████▌                 | 3/4 [04:19<01:29, 89.83s/it]"
     ]
    },
    {
     "name": "stdout",
     "output_type": "stream",
     "text": [
      "Epoch 1/2\n",
      "24/24 - 42s - loss: 0.0274 - accuracy: 0.9894 - 42s/epoch - 2s/step\n",
      "Epoch 2/2\n",
      "24/24 - 35s - loss: 0.0339 - accuracy: 0.9907 - 35s/epoch - 1s/step\n"
     ]
    },
    {
     "name": "stderr",
     "output_type": "stream",
     "text": [
      "Progress Bar: 100%|██████████████████████████████████████████████████████████████████████| 4/4 [05:42<00:00, 85.64s/it]\n"
     ]
    },
    {
     "name": "stdout",
     "output_type": "stream",
     "text": [
      "32/32 [==============================] - 44s 1s/step - loss: 0.1264 - accuracy: 0.9660\n",
      "comm_round: 14 | global_acc: 96.600% | global_loss: 0.12636937201023102\n"
     ]
    },
    {
     "name": "stderr",
     "output_type": "stream",
     "text": [
      "\r",
      "Progress Bar:   0%|                                                                              | 0/4 [00:00<?, ?it/s]"
     ]
    },
    {
     "name": "stdout",
     "output_type": "stream",
     "text": [
      "Epoch 1/2\n",
      "20/20 - 34s - loss: 0.0370 - accuracy: 0.9903 - 34s/epoch - 2s/step\n",
      "Epoch 2/2\n",
      "20/20 - 32s - loss: 0.0384 - accuracy: 0.9919 - 32s/epoch - 2s/step\n"
     ]
    },
    {
     "name": "stderr",
     "output_type": "stream",
     "text": [
      "\r",
      "Progress Bar:  25%|█████████████████▌                                                    | 1/4 [01:12<03:36, 72.25s/it]"
     ]
    },
    {
     "name": "stdout",
     "output_type": "stream",
     "text": [
      "Epoch 1/2\n",
      "24/24 - 41s - loss: 0.0213 - accuracy: 0.9906 - 41s/epoch - 2s/step\n",
      "Epoch 2/2\n",
      "24/24 - 37s - loss: 0.0174 - accuracy: 0.9919 - 37s/epoch - 2s/step\n"
     ]
    },
    {
     "name": "stderr",
     "output_type": "stream",
     "text": [
      "\r",
      "Progress Bar:  50%|███████████████████████████████████                                   | 2/4 [02:36<02:38, 79.16s/it]"
     ]
    },
    {
     "name": "stdout",
     "output_type": "stream",
     "text": [
      "Epoch 1/2\n",
      "26/26 - 48s - loss: 0.0329 - accuracy: 0.9878 - 48s/epoch - 2s/step\n",
      "Epoch 2/2\n",
      "26/26 - 43s - loss: 0.0742 - accuracy: 0.9780 - 43s/epoch - 2s/step\n"
     ]
    },
    {
     "name": "stderr",
     "output_type": "stream",
     "text": [
      "\r",
      "Progress Bar:  75%|████████████████████████████████████████████████████▌                 | 3/4 [04:13<01:27, 87.42s/it]"
     ]
    },
    {
     "name": "stdout",
     "output_type": "stream",
     "text": [
      "Epoch 1/2\n",
      "24/24 - 47s - loss: 0.0188 - accuracy: 0.9920 - 47s/epoch - 2s/step\n",
      "Epoch 2/2\n",
      "24/24 - 40s - loss: 0.0302 - accuracy: 0.9894 - 40s/epoch - 2s/step\n"
     ]
    },
    {
     "name": "stderr",
     "output_type": "stream",
     "text": [
      "Progress Bar: 100%|██████████████████████████████████████████████████████████████████████| 4/4 [05:47<00:00, 86.87s/it]\n"
     ]
    },
    {
     "name": "stdout",
     "output_type": "stream",
     "text": [
      "32/32 [==============================] - 55s 2s/step - loss: 0.1374 - accuracy: 0.9700\n",
      "comm_round: 15 | global_acc: 97.000% | global_loss: 0.13741162419319153\n"
     ]
    },
    {
     "name": "stderr",
     "output_type": "stream",
     "text": [
      "\r",
      "Progress Bar:   0%|                                                                              | 0/4 [00:00<?, ?it/s]"
     ]
    },
    {
     "name": "stdout",
     "output_type": "stream",
     "text": [
      "Epoch 1/2\n",
      "24/24 - 49s - loss: 0.0364 - accuracy: 0.9838 - 49s/epoch - 2s/step\n",
      "Epoch 2/2\n",
      "24/24 - 41s - loss: 0.0115 - accuracy: 0.9973 - 41s/epoch - 2s/step\n"
     ]
    },
    {
     "name": "stderr",
     "output_type": "stream",
     "text": [
      "\r",
      "Progress Bar:  25%|█████████████████▌                                                    | 1/4 [01:36<04:49, 96.60s/it]"
     ]
    },
    {
     "name": "stdout",
     "output_type": "stream",
     "text": [
      "Epoch 1/2\n",
      "24/24 - 50s - loss: 0.0319 - accuracy: 0.9907 - 50s/epoch - 2s/step\n",
      "Epoch 2/2\n",
      "24/24 - 42s - loss: 0.0748 - accuracy: 0.9828 - 42s/epoch - 2s/step\n"
     ]
    },
    {
     "name": "stderr",
     "output_type": "stream",
     "text": [
      "\r",
      "Progress Bar:  50%|███████████████████████████████████                                   | 2/4 [03:15<03:15, 97.96s/it]"
     ]
    },
    {
     "name": "stdout",
     "output_type": "stream",
     "text": [
      "Epoch 1/2\n",
      "26/26 - 51s - loss: 0.0035 - accuracy: 0.9988 - 51s/epoch - 2s/step\n",
      "Epoch 2/2\n",
      "26/26 - 43s - loss: 0.1911 - accuracy: 0.9633 - 43s/epoch - 2s/step\n"
     ]
    },
    {
     "name": "stderr",
     "output_type": "stream",
     "text": [
      "\r",
      "Progress Bar:  75%|████████████████████████████████████████████████████▌                 | 3/4 [04:56<01:39, 99.42s/it]"
     ]
    },
    {
     "name": "stdout",
     "output_type": "stream",
     "text": [
      "Epoch 1/2\n",
      "20/20 - 35s - loss: 0.0215 - accuracy: 0.9952 - 35s/epoch - 2s/step\n",
      "Epoch 2/2\n",
      "20/20 - 25s - loss: 0.0264 - accuracy: 0.9887 - 25s/epoch - 1s/step\n"
     ]
    },
    {
     "name": "stderr",
     "output_type": "stream",
     "text": [
      "Progress Bar: 100%|██████████████████████████████████████████████████████████████████████| 4/4 [06:02<00:00, 90.64s/it]\n"
     ]
    },
    {
     "name": "stdout",
     "output_type": "stream",
     "text": [
      "32/32 [==============================] - 36s 1s/step - loss: 0.1137 - accuracy: 0.9710\n",
      "comm_round: 16 | global_acc: 97.100% | global_loss: 0.1137484461069107\n"
     ]
    },
    {
     "name": "stderr",
     "output_type": "stream",
     "text": [
      "\r",
      "Progress Bar:   0%|                                                                              | 0/4 [00:00<?, ?it/s]"
     ]
    },
    {
     "name": "stdout",
     "output_type": "stream",
     "text": [
      "Epoch 1/2\n",
      "24/24 - 42s - loss: 0.0241 - accuracy: 0.9907 - 42s/epoch - 2s/step\n",
      "Epoch 2/2\n",
      "24/24 - 33s - loss: 0.0216 - accuracy: 0.9907 - 33s/epoch - 1s/step\n"
     ]
    },
    {
     "name": "stderr",
     "output_type": "stream",
     "text": [
      "\r",
      "Progress Bar:  25%|█████████████████▌                                                    | 1/4 [01:22<04:06, 82.19s/it]"
     ]
    },
    {
     "name": "stdout",
     "output_type": "stream",
     "text": [
      "Epoch 1/2\n",
      "24/24 - 39s - loss: 0.0325 - accuracy: 0.9879 - 39s/epoch - 2s/step\n",
      "Epoch 2/2\n",
      "24/24 - 37s - loss: 0.0527 - accuracy: 0.9892 - 37s/epoch - 2s/step\n"
     ]
    },
    {
     "name": "stderr",
     "output_type": "stream",
     "text": [
      "\r",
      "Progress Bar:  50%|███████████████████████████████████                                   | 2/4 [02:44<02:45, 82.54s/it]"
     ]
    },
    {
     "name": "stdout",
     "output_type": "stream",
     "text": [
      "Epoch 1/2\n",
      "20/20 - 34s - loss: 0.0144 - accuracy: 0.9919 - 34s/epoch - 2s/step\n",
      "Epoch 2/2\n",
      "20/20 - 31s - loss: 0.0184 - accuracy: 0.9952 - 31s/epoch - 2s/step\n"
     ]
    },
    {
     "name": "stderr",
     "output_type": "stream",
     "text": [
      "\r",
      "Progress Bar:  75%|████████████████████████████████████████████████████▌                 | 3/4 [03:56<01:17, 77.54s/it]"
     ]
    },
    {
     "name": "stdout",
     "output_type": "stream",
     "text": [
      "Epoch 1/2\n",
      "26/26 - 38s - loss: 0.0069 - accuracy: 0.9951 - 38s/epoch - 1s/step\n",
      "Epoch 2/2\n",
      "26/26 - 35s - loss: 0.0630 - accuracy: 0.9902 - 35s/epoch - 1s/step\n"
     ]
    },
    {
     "name": "stderr",
     "output_type": "stream",
     "text": [
      "Progress Bar: 100%|██████████████████████████████████████████████████████████████████████| 4/4 [05:16<00:00, 79.13s/it]\n"
     ]
    },
    {
     "name": "stdout",
     "output_type": "stream",
     "text": [
      "32/32 [==============================] - 39s 1s/step - loss: 0.1246 - accuracy: 0.9720\n",
      "comm_round: 17 | global_acc: 97.200% | global_loss: 0.12464969605207443\n"
     ]
    },
    {
     "name": "stderr",
     "output_type": "stream",
     "text": [
      "\r",
      "Progress Bar:   0%|                                                                              | 0/4 [00:00<?, ?it/s]"
     ]
    },
    {
     "name": "stdout",
     "output_type": "stream",
     "text": [
      "Epoch 1/2\n",
      "26/26 - 41s - loss: 0.0176 - accuracy: 0.9939 - 41s/epoch - 2s/step\n",
      "Epoch 2/2\n",
      "26/26 - 37s - loss: 0.0425 - accuracy: 0.9890 - 37s/epoch - 1s/step\n"
     ]
    },
    {
     "name": "stderr",
     "output_type": "stream",
     "text": [
      "\r",
      "Progress Bar:  25%|█████████████████▌                                                    | 1/4 [01:24<04:12, 84.24s/it]"
     ]
    },
    {
     "name": "stdout",
     "output_type": "stream",
     "text": [
      "Epoch 1/2\n",
      "20/20 - 39s - loss: 0.0090 - accuracy: 0.9952 - 39s/epoch - 2s/step\n",
      "Epoch 2/2\n",
      "20/20 - 35s - loss: 0.0179 - accuracy: 0.9952 - 35s/epoch - 2s/step\n"
     ]
    },
    {
     "name": "stderr",
     "output_type": "stream",
     "text": [
      "\r",
      "Progress Bar:  50%|███████████████████████████████████                                   | 2/4 [02:44<02:44, 82.02s/it]"
     ]
    },
    {
     "name": "stdout",
     "output_type": "stream",
     "text": [
      "Epoch 1/2\n",
      "24/24 - 49s - loss: 0.0235 - accuracy: 0.9960 - 49s/epoch - 2s/step\n",
      "Epoch 2/2\n",
      "24/24 - 45s - loss: 0.1177 - accuracy: 0.9775 - 45s/epoch - 2s/step\n"
     ]
    },
    {
     "name": "stderr",
     "output_type": "stream",
     "text": [
      "\r",
      "Progress Bar:  75%|████████████████████████████████████████████████████▌                 | 3/4 [04:25<01:30, 90.42s/it]"
     ]
    },
    {
     "name": "stdout",
     "output_type": "stream",
     "text": [
      "Epoch 1/2\n",
      "24/24 - 42s - loss: 0.0461 - accuracy: 0.9879 - 42s/epoch - 2s/step\n",
      "Epoch 2/2\n",
      "24/24 - 37s - loss: 0.0692 - accuracy: 0.9838 - 37s/epoch - 2s/step\n"
     ]
    },
    {
     "name": "stderr",
     "output_type": "stream",
     "text": [
      "Progress Bar: 100%|██████████████████████████████████████████████████████████████████████| 4/4 [05:50<00:00, 87.70s/it]\n"
     ]
    },
    {
     "name": "stdout",
     "output_type": "stream",
     "text": [
      "32/32 [==============================] - 45s 1s/step - loss: 0.1568 - accuracy: 0.9720\n",
      "comm_round: 18 | global_acc: 97.200% | global_loss: 0.15675917267799377\n"
     ]
    },
    {
     "name": "stderr",
     "output_type": "stream",
     "text": [
      "\r",
      "Progress Bar:   0%|                                                                              | 0/4 [00:00<?, ?it/s]"
     ]
    },
    {
     "name": "stdout",
     "output_type": "stream",
     "text": [
      "Epoch 1/2\n",
      "24/24 - 40s - loss: 0.0034 - accuracy: 0.9973 - 40s/epoch - 2s/step\n",
      "Epoch 2/2\n",
      "24/24 - 35s - loss: 0.0485 - accuracy: 0.9881 - 35s/epoch - 1s/step\n"
     ]
    },
    {
     "name": "stderr",
     "output_type": "stream",
     "text": [
      "\r",
      "Progress Bar:  25%|█████████████████▌                                                    | 1/4 [01:20<04:02, 80.77s/it]"
     ]
    },
    {
     "name": "stdout",
     "output_type": "stream",
     "text": [
      "Epoch 1/2\n",
      "26/26 - 46s - loss: 0.0137 - accuracy: 0.9976 - 46s/epoch - 2s/step\n",
      "Epoch 2/2\n",
      "26/26 - 41s - loss: 0.0458 - accuracy: 0.9890 - 41s/epoch - 2s/step\n"
     ]
    },
    {
     "name": "stderr",
     "output_type": "stream",
     "text": [
      "\r",
      "Progress Bar:  50%|███████████████████████████████████                                   | 2/4 [02:54<02:57, 88.56s/it]"
     ]
    },
    {
     "name": "stdout",
     "output_type": "stream",
     "text": [
      "Epoch 1/2\n",
      "20/20 - 36s - loss: 0.0135 - accuracy: 0.9952 - 36s/epoch - 2s/step\n",
      "Epoch 2/2\n",
      "20/20 - 29s - loss: 0.0985 - accuracy: 0.9822 - 29s/epoch - 1s/step\n"
     ]
    },
    {
     "name": "stderr",
     "output_type": "stream",
     "text": [
      "\r",
      "Progress Bar:  75%|████████████████████████████████████████████████████▌                 | 3/4 [04:06<01:21, 81.04s/it]"
     ]
    },
    {
     "name": "stdout",
     "output_type": "stream",
     "text": [
      "Epoch 1/2\n",
      "24/24 - 39s - loss: 0.0043 - accuracy: 0.9987 - 39s/epoch - 2s/step\n",
      "Epoch 2/2\n",
      "24/24 - 33s - loss: 0.0274 - accuracy: 0.9906 - 33s/epoch - 1s/step\n"
     ]
    },
    {
     "name": "stderr",
     "output_type": "stream",
     "text": [
      "Progress Bar: 100%|██████████████████████████████████████████████████████████████████████| 4/4 [05:26<00:00, 81.50s/it]\n"
     ]
    },
    {
     "name": "stdout",
     "output_type": "stream",
     "text": [
      "32/32 [==============================] - 46s 1s/step - loss: 0.1289 - accuracy: 0.9760\n",
      "comm_round: 19 | global_acc: 97.600% | global_loss: 0.128932923078537\n"
     ]
    },
    {
     "name": "stderr",
     "output_type": "stream",
     "text": [
      "\r",
      "Progress Bar:   0%|                                                                              | 0/4 [00:00<?, ?it/s]"
     ]
    },
    {
     "name": "stdout",
     "output_type": "stream",
     "text": [
      "Epoch 1/2\n",
      "24/24 - 44s - loss: 0.0101 - accuracy: 0.9946 - 44s/epoch - 2s/step\n",
      "Epoch 2/2\n",
      "24/24 - 36s - loss: 0.0192 - accuracy: 0.9946 - 36s/epoch - 1s/step\n"
     ]
    },
    {
     "name": "stderr",
     "output_type": "stream",
     "text": [
      "\r",
      "Progress Bar:  25%|█████████████████▌                                                    | 1/4 [01:26<04:20, 86.70s/it]"
     ]
    },
    {
     "name": "stdout",
     "output_type": "stream",
     "text": [
      "Epoch 1/2\n",
      "24/24 - 42s - loss: 0.0083 - accuracy: 0.9973 - 42s/epoch - 2s/step\n",
      "Epoch 2/2\n",
      "24/24 - 36s - loss: 0.0692 - accuracy: 0.9867 - 36s/epoch - 2s/step\n"
     ]
    },
    {
     "name": "stderr",
     "output_type": "stream",
     "text": [
      "\r",
      "Progress Bar:  50%|███████████████████████████████████                                   | 2/4 [02:51<02:51, 85.53s/it]"
     ]
    },
    {
     "name": "stdout",
     "output_type": "stream",
     "text": [
      "Epoch 1/2\n",
      "20/20 - 37s - loss: 0.0186 - accuracy: 0.9968 - 37s/epoch - 2s/step\n",
      "Epoch 2/2\n",
      "20/20 - 31s - loss: 0.0394 - accuracy: 0.9935 - 31s/epoch - 2s/step\n"
     ]
    },
    {
     "name": "stderr",
     "output_type": "stream",
     "text": [
      "\r",
      "Progress Bar:  75%|████████████████████████████████████████████████████▌                 | 3/4 [04:05<01:20, 80.21s/it]"
     ]
    },
    {
     "name": "stdout",
     "output_type": "stream",
     "text": [
      "Epoch 1/2\n",
      "26/26 - 48s - loss: 0.0141 - accuracy: 0.9976 - 48s/epoch - 2s/step\n",
      "Epoch 2/2\n",
      "26/26 - 39s - loss: 0.0606 - accuracy: 0.9890 - 39s/epoch - 2s/step\n"
     ]
    },
    {
     "name": "stderr",
     "output_type": "stream",
     "text": [
      "Progress Bar: 100%|██████████████████████████████████████████████████████████████████████| 4/4 [05:39<00:00, 84.90s/it]\n"
     ]
    },
    {
     "name": "stdout",
     "output_type": "stream",
     "text": [
      "32/32 [==============================] - 50s 2s/step - loss: 0.2157 - accuracy: 0.9700\n",
      "comm_round: 20 | global_acc: 97.000% | global_loss: 0.2157379686832428\n"
     ]
    },
    {
     "name": "stderr",
     "output_type": "stream",
     "text": [
      "\r",
      "Progress Bar:   0%|                                                                              | 0/4 [00:00<?, ?it/s]"
     ]
    },
    {
     "name": "stdout",
     "output_type": "stream",
     "text": [
      "Epoch 1/2\n",
      "26/26 - 50s - loss: 0.0065 - accuracy: 0.9963 - 50s/epoch - 2s/step\n",
      "Epoch 2/2\n",
      "26/26 - 39s - loss: 1.6239e-04 - accuracy: 1.0000 - 39s/epoch - 2s/step\n"
     ]
    },
    {
     "name": "stderr",
     "output_type": "stream",
     "text": [
      "\r",
      "Progress Bar:  25%|█████████████████▌                                                    | 1/4 [01:36<04:48, 96.09s/it]"
     ]
    },
    {
     "name": "stdout",
     "output_type": "stream",
     "text": [
      "Epoch 1/2\n",
      "24/24 - 44s - loss: 0.0015 - accuracy: 0.9987 - 44s/epoch - 2s/step\n",
      "Epoch 2/2\n",
      "24/24 - 37s - loss: 0.1010 - accuracy: 0.9828 - 37s/epoch - 2s/step\n"
     ]
    },
    {
     "name": "stderr",
     "output_type": "stream",
     "text": [
      "\r",
      "Progress Bar:  50%|███████████████████████████████████                                   | 2/4 [03:03<03:01, 90.89s/it]"
     ]
    },
    {
     "name": "stdout",
     "output_type": "stream",
     "text": [
      "Epoch 1/2\n",
      "24/24 - 44s - loss: 0.0305 - accuracy: 0.9933 - 44s/epoch - 2s/step\n",
      "Epoch 2/2\n",
      "24/24 - 36s - loss: 0.0429 - accuracy: 0.9879 - 36s/epoch - 1s/step\n"
     ]
    },
    {
     "name": "stderr",
     "output_type": "stream",
     "text": [
      "\r",
      "Progress Bar:  75%|████████████████████████████████████████████████████▌                 | 3/4 [04:30<01:29, 89.16s/it]"
     ]
    },
    {
     "name": "stdout",
     "output_type": "stream",
     "text": [
      "Epoch 1/2\n",
      "20/20 - 38s - loss: 3.5209e-04 - accuracy: 1.0000 - 38s/epoch - 2s/step\n",
      "Epoch 2/2\n",
      "20/20 - 29s - loss: 0.0211 - accuracy: 0.9919 - 29s/epoch - 1s/step\n"
     ]
    },
    {
     "name": "stderr",
     "output_type": "stream",
     "text": [
      "Progress Bar: 100%|██████████████████████████████████████████████████████████████████████| 4/4 [05:44<00:00, 86.01s/it]\n"
     ]
    },
    {
     "name": "stdout",
     "output_type": "stream",
     "text": [
      "32/32 [==============================] - 50s 2s/step - loss: 0.2186 - accuracy: 0.9710\n",
      "comm_round: 21 | global_acc: 97.100% | global_loss: 0.21857474744319916\n"
     ]
    },
    {
     "name": "stderr",
     "output_type": "stream",
     "text": [
      "\r",
      "Progress Bar:   0%|                                                                              | 0/4 [00:00<?, ?it/s]"
     ]
    },
    {
     "name": "stdout",
     "output_type": "stream",
     "text": [
      "Epoch 1/2\n",
      "24/24 - 44s - loss: 0.0179 - accuracy: 0.9947 - 44s/epoch - 2s/step\n",
      "Epoch 2/2\n",
      "24/24 - 36s - loss: 0.0181 - accuracy: 0.9960 - 36s/epoch - 2s/step\n"
     ]
    },
    {
     "name": "stderr",
     "output_type": "stream",
     "text": [
      "\r",
      "Progress Bar:  25%|█████████████████▌                                                    | 1/4 [01:27<04:21, 87.10s/it]"
     ]
    },
    {
     "name": "stdout",
     "output_type": "stream",
     "text": [
      "Epoch 1/2\n",
      "20/20 - 38s - loss: 0.0045 - accuracy: 0.9968 - 38s/epoch - 2s/step\n",
      "Epoch 2/2\n",
      "20/20 - 29s - loss: 8.8751e-04 - accuracy: 1.0000 - 29s/epoch - 1s/step\n"
     ]
    },
    {
     "name": "stderr",
     "output_type": "stream",
     "text": [
      "\r",
      "Progress Bar:  50%|███████████████████████████████████                                   | 2/4 [02:40<02:37, 78.84s/it]"
     ]
    },
    {
     "name": "stdout",
     "output_type": "stream",
     "text": [
      "Epoch 1/2\n",
      "26/26 - 47s - loss: 2.7313e-04 - accuracy: 1.0000 - 47s/epoch - 2s/step\n",
      "Epoch 2/2\n",
      "26/26 - 40s - loss: 0.0344 - accuracy: 0.9951 - 40s/epoch - 2s/step\n"
     ]
    },
    {
     "name": "stderr",
     "output_type": "stream",
     "text": [
      "\r",
      "Progress Bar:  75%|████████████████████████████████████████████████████▌                 | 3/4 [04:14<01:25, 85.80s/it]"
     ]
    },
    {
     "name": "stdout",
     "output_type": "stream",
     "text": [
      "Epoch 1/2\n",
      "24/24 - 42s - loss: 0.0168 - accuracy: 0.9933 - 42s/epoch - 2s/step\n",
      "Epoch 2/2\n",
      "24/24 - 36s - loss: 0.0585 - accuracy: 0.9879 - 36s/epoch - 1s/step\n"
     ]
    },
    {
     "name": "stderr",
     "output_type": "stream",
     "text": [
      "Progress Bar: 100%|██████████████████████████████████████████████████████████████████████| 4/4 [05:39<00:00, 84.75s/it]\n"
     ]
    },
    {
     "name": "stdout",
     "output_type": "stream",
     "text": [
      "32/32 [==============================] - 48s 1s/step - loss: 0.2022 - accuracy: 0.9680\n",
      "comm_round: 22 | global_acc: 96.800% | global_loss: 0.20224672555923462\n"
     ]
    },
    {
     "name": "stderr",
     "output_type": "stream",
     "text": [
      "\r",
      "Progress Bar:   0%|                                                                              | 0/4 [00:00<?, ?it/s]"
     ]
    },
    {
     "name": "stdout",
     "output_type": "stream",
     "text": [
      "Epoch 1/2\n",
      "20/20 - 36s - loss: 0.0011 - accuracy: 1.0000 - 36s/epoch - 2s/step\n",
      "Epoch 2/2\n",
      "20/20 - 29s - loss: 0.0120 - accuracy: 0.9935 - 29s/epoch - 1s/step\n"
     ]
    },
    {
     "name": "stderr",
     "output_type": "stream",
     "text": [
      "\r",
      "Progress Bar:  25%|█████████████████▌                                                    | 1/4 [01:11<03:35, 71.87s/it]"
     ]
    },
    {
     "name": "stdout",
     "output_type": "stream",
     "text": [
      "Epoch 1/2\n",
      "26/26 - 46s - loss: 0.0023 - accuracy: 0.9988 - 46s/epoch - 2s/step\n",
      "Epoch 2/2\n",
      "26/26 - 39s - loss: 0.0874 - accuracy: 0.9878 - 39s/epoch - 2s/step\n"
     ]
    },
    {
     "name": "stderr",
     "output_type": "stream",
     "text": [
      "\r",
      "Progress Bar:  50%|███████████████████████████████████                                   | 2/4 [02:44<02:48, 84.23s/it]"
     ]
    },
    {
     "name": "stdout",
     "output_type": "stream",
     "text": [
      "Epoch 1/2\n",
      "24/24 - 44s - loss: 0.0057 - accuracy: 0.9987 - 44s/epoch - 2s/step\n",
      "Epoch 2/2\n",
      "24/24 - 35s - loss: 0.0144 - accuracy: 0.9960 - 35s/epoch - 1s/step\n"
     ]
    },
    {
     "name": "stderr",
     "output_type": "stream",
     "text": [
      "\r",
      "Progress Bar:  75%|████████████████████████████████████████████████████▌                 | 3/4 [04:10<01:24, 84.71s/it]"
     ]
    },
    {
     "name": "stdout",
     "output_type": "stream",
     "text": [
      "Epoch 1/2\n",
      "24/24 - 46s - loss: 0.0014 - accuracy: 1.0000 - 46s/epoch - 2s/step\n",
      "Epoch 2/2\n",
      "24/24 - 38s - loss: 0.0126 - accuracy: 0.9934 - 38s/epoch - 2s/step\n"
     ]
    },
    {
     "name": "stderr",
     "output_type": "stream",
     "text": [
      "Progress Bar: 100%|██████████████████████████████████████████████████████████████████████| 4/4 [05:41<00:00, 85.32s/it]\n"
     ]
    },
    {
     "name": "stdout",
     "output_type": "stream",
     "text": [
      "32/32 [==============================] - 49s 1s/step - loss: 0.1587 - accuracy: 0.9740\n",
      "comm_round: 23 | global_acc: 97.400% | global_loss: 0.1587376594543457\n"
     ]
    },
    {
     "name": "stderr",
     "output_type": "stream",
     "text": [
      "\r",
      "Progress Bar:   0%|                                                                              | 0/4 [00:00<?, ?it/s]"
     ]
    },
    {
     "name": "stdout",
     "output_type": "stream",
     "text": [
      "Epoch 1/2\n",
      "26/26 - 43s - loss: 0.0079 - accuracy: 0.9976 - 43s/epoch - 2s/step\n",
      "Epoch 2/2\n",
      "26/26 - 38s - loss: 0.0430 - accuracy: 0.9927 - 38s/epoch - 1s/step\n"
     ]
    },
    {
     "name": "stderr",
     "output_type": "stream",
     "text": [
      "\r",
      "Progress Bar:  25%|█████████████████▌                                                    | 1/4 [01:27<04:23, 87.79s/it]"
     ]
    },
    {
     "name": "stdout",
     "output_type": "stream",
     "text": [
      "Epoch 1/2\n",
      "24/24 - 41s - loss: 0.0024 - accuracy: 0.9987 - 41s/epoch - 2s/step\n",
      "Epoch 2/2\n",
      "24/24 - 37s - loss: 0.0100 - accuracy: 0.9960 - 37s/epoch - 2s/step\n"
     ]
    },
    {
     "name": "stderr",
     "output_type": "stream",
     "text": [
      "\r",
      "Progress Bar:  50%|███████████████████████████████████                                   | 2/4 [02:52<02:52, 86.04s/it]"
     ]
    },
    {
     "name": "stdout",
     "output_type": "stream",
     "text": [
      "Epoch 1/2\n",
      "20/20 - 37s - loss: 0.0076 - accuracy: 0.9984 - 37s/epoch - 2s/step\n",
      "Epoch 2/2\n",
      "20/20 - 30s - loss: 0.0712 - accuracy: 0.9871 - 30s/epoch - 2s/step\n"
     ]
    },
    {
     "name": "stderr",
     "output_type": "stream",
     "text": [
      "\r",
      "Progress Bar:  75%|████████████████████████████████████████████████████▌                 | 3/4 [04:06<01:20, 80.44s/it]"
     ]
    },
    {
     "name": "stdout",
     "output_type": "stream",
     "text": [
      "Epoch 1/2\n",
      "24/24 - 43s - loss: 0.0037 - accuracy: 0.9973 - 43s/epoch - 2s/step\n",
      "Epoch 2/2\n",
      "24/24 - 38s - loss: 0.0052 - accuracy: 0.9973 - 38s/epoch - 2s/step\n"
     ]
    },
    {
     "name": "stderr",
     "output_type": "stream",
     "text": [
      "Progress Bar: 100%|██████████████████████████████████████████████████████████████████████| 4/4 [05:33<00:00, 83.34s/it]\n"
     ]
    },
    {
     "name": "stdout",
     "output_type": "stream",
     "text": [
      "32/32 [==============================] - 49s 1s/step - loss: 0.1923 - accuracy: 0.9700\n",
      "comm_round: 24 | global_acc: 97.000% | global_loss: 0.19232705235481262\n"
     ]
    },
    {
     "name": "stderr",
     "output_type": "stream",
     "text": [
      "\r",
      "Progress Bar:   0%|                                                                              | 0/4 [00:00<?, ?it/s]"
     ]
    },
    {
     "name": "stdout",
     "output_type": "stream",
     "text": [
      "Epoch 1/2\n",
      "20/20 - 38s - loss: 0.0157 - accuracy: 0.9968 - 38s/epoch - 2s/step\n",
      "Epoch 2/2\n",
      "20/20 - 30s - loss: 0.0039 - accuracy: 0.9968 - 30s/epoch - 2s/step\n"
     ]
    },
    {
     "name": "stderr",
     "output_type": "stream",
     "text": [
      "\r",
      "Progress Bar:  25%|█████████████████▌                                                    | 1/4 [01:14<03:44, 74.90s/it]"
     ]
    },
    {
     "name": "stdout",
     "output_type": "stream",
     "text": [
      "Epoch 1/2\n",
      "26/26 - 46s - loss: 0.0220 - accuracy: 0.9963 - 46s/epoch - 2s/step\n",
      "Epoch 2/2\n",
      "26/26 - 38s - loss: 0.0085 - accuracy: 0.9963 - 38s/epoch - 1s/step\n"
     ]
    },
    {
     "name": "stderr",
     "output_type": "stream",
     "text": [
      "\r",
      "Progress Bar:  50%|███████████████████████████████████                                   | 2/4 [02:46<02:49, 84.95s/it]"
     ]
    },
    {
     "name": "stdout",
     "output_type": "stream",
     "text": [
      "Epoch 1/2\n",
      "24/24 - 43s - loss: 3.2447e-04 - accuracy: 1.0000 - 43s/epoch - 2s/step\n",
      "Epoch 2/2\n",
      "24/24 - 36s - loss: 0.0205 - accuracy: 0.9973 - 36s/epoch - 2s/step\n"
     ]
    },
    {
     "name": "stderr",
     "output_type": "stream",
     "text": [
      "\r",
      "Progress Bar:  75%|████████████████████████████████████████████████████▌                 | 3/4 [04:12<01:25, 85.15s/it]"
     ]
    },
    {
     "name": "stdout",
     "output_type": "stream",
     "text": [
      "Epoch 1/2\n",
      "24/24 - 43s - loss: 0.0090 - accuracy: 0.9960 - 43s/epoch - 2s/step\n",
      "Epoch 2/2\n",
      "24/24 - 39s - loss: 0.0096 - accuracy: 0.9946 - 39s/epoch - 2s/step\n"
     ]
    },
    {
     "name": "stderr",
     "output_type": "stream",
     "text": [
      "Progress Bar: 100%|██████████████████████████████████████████████████████████████████████| 4/4 [05:41<00:00, 85.37s/it]\n"
     ]
    },
    {
     "name": "stdout",
     "output_type": "stream",
     "text": [
      "32/32 [==============================] - 48s 1s/step - loss: 0.2778 - accuracy: 0.9670\n",
      "comm_round: 25 | global_acc: 96.700% | global_loss: 0.27776122093200684\n"
     ]
    },
    {
     "name": "stderr",
     "output_type": "stream",
     "text": [
      "\r",
      "Progress Bar:   0%|                                                                              | 0/4 [00:00<?, ?it/s]"
     ]
    },
    {
     "name": "stdout",
     "output_type": "stream",
     "text": [
      "Epoch 1/2\n",
      "26/26 - 48s - loss: 1.4971e-04 - accuracy: 1.0000 - 48s/epoch - 2s/step\n",
      "Epoch 2/2\n",
      "26/26 - 47s - loss: 0.0502 - accuracy: 0.9927 - 47s/epoch - 2s/step\n"
     ]
    },
    {
     "name": "stderr",
     "output_type": "stream",
     "text": [
      "\r",
      "Progress Bar:  25%|█████████████████▎                                                   | 1/4 [01:42<05:08, 102.92s/it]"
     ]
    },
    {
     "name": "stdout",
     "output_type": "stream",
     "text": [
      "Epoch 1/2\n",
      "20/20 - 40s - loss: 0.0194 - accuracy: 0.9984 - 40s/epoch - 2s/step\n",
      "Epoch 2/2\n",
      "20/20 - 32s - loss: 0.0022 - accuracy: 0.9984 - 32s/epoch - 2s/step\n"
     ]
    },
    {
     "name": "stderr",
     "output_type": "stream",
     "text": [
      "\r",
      "Progress Bar:  50%|███████████████████████████████████                                   | 2/4 [03:00<02:56, 88.28s/it]"
     ]
    },
    {
     "name": "stdout",
     "output_type": "stream",
     "text": [
      "Epoch 1/2\n",
      "24/24 - 44s - loss: 0.0059 - accuracy: 0.9960 - 44s/epoch - 2s/step\n",
      "Epoch 2/2\n",
      "24/24 - 37s - loss: 0.0777 - accuracy: 0.9881 - 37s/epoch - 2s/step\n"
     ]
    },
    {
     "name": "stderr",
     "output_type": "stream",
     "text": [
      "\r",
      "Progress Bar:  75%|████████████████████████████████████████████████████▌                 | 3/4 [04:28<01:27, 87.86s/it]"
     ]
    },
    {
     "name": "stdout",
     "output_type": "stream",
     "text": [
      "Epoch 1/2\n",
      "24/24 - 44s - loss: 0.0744 - accuracy: 0.9825 - 44s/epoch - 2s/step\n",
      "Epoch 2/2\n",
      "24/24 - 35s - loss: 0.0266 - accuracy: 0.9919 - 35s/epoch - 1s/step\n"
     ]
    },
    {
     "name": "stderr",
     "output_type": "stream",
     "text": [
      "Progress Bar: 100%|██████████████████████████████████████████████████████████████████████| 4/4 [05:53<00:00, 88.43s/it]\n"
     ]
    },
    {
     "name": "stdout",
     "output_type": "stream",
     "text": [
      "32/32 [==============================] - 47s 1s/step - loss: 0.1987 - accuracy: 0.9700\n",
      "comm_round: 26 | global_acc: 97.000% | global_loss: 0.1986771672964096\n"
     ]
    },
    {
     "name": "stderr",
     "output_type": "stream",
     "text": [
      "\r",
      "Progress Bar:   0%|                                                                              | 0/4 [00:00<?, ?it/s]"
     ]
    },
    {
     "name": "stdout",
     "output_type": "stream",
     "text": [
      "Epoch 1/2\n",
      "20/20 - 36s - loss: 9.1444e-05 - accuracy: 1.0000 - 36s/epoch - 2s/step\n",
      "Epoch 2/2\n",
      "20/20 - 30s - loss: 7.8235e-04 - accuracy: 1.0000 - 30s/epoch - 1s/step\n"
     ]
    },
    {
     "name": "stderr",
     "output_type": "stream",
     "text": [
      "\r",
      "Progress Bar:  25%|█████████████████▌                                                    | 1/4 [01:13<03:39, 73.17s/it]"
     ]
    },
    {
     "name": "stdout",
     "output_type": "stream",
     "text": [
      "Epoch 1/2\n",
      "24/24 - 47s - loss: 0.0051 - accuracy: 0.9987 - 47s/epoch - 2s/step\n",
      "Epoch 2/2\n",
      "24/24 - 37s - loss: 0.0419 - accuracy: 0.9907 - 37s/epoch - 2s/step\n"
     ]
    },
    {
     "name": "stderr",
     "output_type": "stream",
     "text": [
      "\r",
      "Progress Bar:  50%|███████████████████████████████████                                   | 2/4 [02:43<02:46, 83.15s/it]"
     ]
    },
    {
     "name": "stdout",
     "output_type": "stream",
     "text": [
      "Epoch 1/2\n",
      "24/24 - 44s - loss: 1.8313e-04 - accuracy: 1.0000 - 44s/epoch - 2s/step\n",
      "Epoch 2/2\n",
      "24/24 - 36s - loss: 0.0469 - accuracy: 0.9892 - 36s/epoch - 2s/step\n"
     ]
    },
    {
     "name": "stderr",
     "output_type": "stream",
     "text": [
      "\r",
      "Progress Bar:  75%|████████████████████████████████████████████████████▌                 | 3/4 [04:09<01:24, 84.61s/it]"
     ]
    },
    {
     "name": "stdout",
     "output_type": "stream",
     "text": [
      "Epoch 1/2\n",
      "26/26 - 46s - loss: 0.0200 - accuracy: 0.9927 - 46s/epoch - 2s/step\n",
      "Epoch 2/2\n",
      "26/26 - 41s - loss: 0.0660 - accuracy: 0.9914 - 41s/epoch - 2s/step\n"
     ]
    },
    {
     "name": "stderr",
     "output_type": "stream",
     "text": [
      "Progress Bar: 100%|██████████████████████████████████████████████████████████████████████| 4/4 [05:43<00:00, 85.93s/it]\n"
     ]
    },
    {
     "name": "stdout",
     "output_type": "stream",
     "text": [
      "32/32 [==============================] - 49s 2s/step - loss: 0.2267 - accuracy: 0.9710\n",
      "comm_round: 27 | global_acc: 97.100% | global_loss: 0.2266501933336258\n"
     ]
    },
    {
     "name": "stderr",
     "output_type": "stream",
     "text": [
      "\r",
      "Progress Bar:   0%|                                                                              | 0/4 [00:00<?, ?it/s]"
     ]
    },
    {
     "name": "stdout",
     "output_type": "stream",
     "text": [
      "Epoch 1/2\n",
      "24/24 - 41s - loss: 1.0145e-04 - accuracy: 1.0000 - 41s/epoch - 2s/step\n",
      "Epoch 2/2\n",
      "24/24 - 35s - loss: 0.0451 - accuracy: 0.9920 - 35s/epoch - 1s/step\n"
     ]
    },
    {
     "name": "stderr",
     "output_type": "stream",
     "text": [
      "\r",
      "Progress Bar:  25%|█████████████████▌                                                    | 1/4 [01:23<04:10, 83.65s/it]"
     ]
    },
    {
     "name": "stdout",
     "output_type": "stream",
     "text": [
      "Epoch 1/2\n",
      "20/20 - 38s - loss: 0.0140 - accuracy: 0.9984 - 38s/epoch - 2s/step\n",
      "Epoch 2/2\n",
      "20/20 - 29s - loss: 0.0257 - accuracy: 0.9968 - 29s/epoch - 1s/step\n"
     ]
    },
    {
     "name": "stderr",
     "output_type": "stream",
     "text": [
      "\r",
      "Progress Bar:  50%|███████████████████████████████████                                   | 2/4 [02:37<02:35, 77.98s/it]"
     ]
    },
    {
     "name": "stdout",
     "output_type": "stream",
     "text": [
      "Epoch 1/2\n",
      "24/24 - 45s - loss: 0.0024 - accuracy: 0.9987 - 45s/epoch - 2s/step\n",
      "Epoch 2/2\n",
      "24/24 - 36s - loss: 0.0365 - accuracy: 0.9919 - 36s/epoch - 1s/step\n"
     ]
    },
    {
     "name": "stderr",
     "output_type": "stream",
     "text": [
      "\r",
      "Progress Bar:  75%|████████████████████████████████████████████████████▌                 | 3/4 [04:05<01:22, 82.45s/it]"
     ]
    },
    {
     "name": "stdout",
     "output_type": "stream",
     "text": [
      "Epoch 1/2\n",
      "26/26 - 43s - loss: 0.0017 - accuracy: 0.9988 - 43s/epoch - 2s/step\n",
      "Epoch 2/2\n",
      "26/26 - 37s - loss: 0.0667 - accuracy: 0.9865 - 37s/epoch - 1s/step\n"
     ]
    },
    {
     "name": "stderr",
     "output_type": "stream",
     "text": [
      "Progress Bar: 100%|██████████████████████████████████████████████████████████████████████| 4/4 [05:31<00:00, 83.00s/it]\n"
     ]
    },
    {
     "name": "stdout",
     "output_type": "stream",
     "text": [
      "32/32 [==============================] - 48s 1s/step - loss: 0.2188 - accuracy: 0.9720\n",
      "comm_round: 28 | global_acc: 97.200% | global_loss: 0.21879065036773682\n"
     ]
    },
    {
     "name": "stderr",
     "output_type": "stream",
     "text": [
      "\r",
      "Progress Bar:   0%|                                                                              | 0/4 [00:00<?, ?it/s]"
     ]
    },
    {
     "name": "stdout",
     "output_type": "stream",
     "text": [
      "Epoch 1/2\n",
      "20/20 - 35s - loss: 9.8547e-04 - accuracy: 1.0000 - 35s/epoch - 2s/step\n",
      "Epoch 2/2\n",
      "20/20 - 30s - loss: 0.0095 - accuracy: 0.9984 - 30s/epoch - 2s/step\n"
     ]
    },
    {
     "name": "stderr",
     "output_type": "stream",
     "text": [
      "\r",
      "Progress Bar:  25%|█████████████████▌                                                    | 1/4 [01:12<03:37, 72.45s/it]"
     ]
    },
    {
     "name": "stdout",
     "output_type": "stream",
     "text": [
      "Epoch 1/2\n",
      "24/24 - 44s - loss: 0.0019 - accuracy: 1.0000 - 44s/epoch - 2s/step\n",
      "Epoch 2/2\n",
      "24/24 - 35s - loss: 0.0239 - accuracy: 0.9973 - 35s/epoch - 1s/step\n"
     ]
    },
    {
     "name": "stderr",
     "output_type": "stream",
     "text": [
      "\r",
      "Progress Bar:  50%|███████████████████████████████████                                   | 2/4 [02:38<02:40, 80.23s/it]"
     ]
    },
    {
     "name": "stdout",
     "output_type": "stream",
     "text": [
      "Epoch 1/2\n",
      "26/26 - 46s - loss: 2.2493e-06 - accuracy: 1.0000 - 46s/epoch - 2s/step\n",
      "Epoch 2/2\n",
      "26/26 - 38s - loss: 0.0107 - accuracy: 0.9963 - 38s/epoch - 1s/step\n"
     ]
    },
    {
     "name": "stderr",
     "output_type": "stream",
     "text": [
      "\r",
      "Progress Bar:  75%|████████████████████████████████████████████████████▌                 | 3/4 [04:09<01:25, 85.23s/it]"
     ]
    },
    {
     "name": "stdout",
     "output_type": "stream",
     "text": [
      "Epoch 1/2\n",
      "24/24 - 43s - loss: 0.0066 - accuracy: 0.9987 - 43s/epoch - 2s/step\n",
      "Epoch 2/2\n",
      "24/24 - 36s - loss: 0.0225 - accuracy: 0.9946 - 36s/epoch - 2s/step\n"
     ]
    },
    {
     "name": "stderr",
     "output_type": "stream",
     "text": [
      "Progress Bar: 100%|██████████████████████████████████████████████████████████████████████| 4/4 [05:35<00:00, 83.88s/it]\n"
     ]
    },
    {
     "name": "stdout",
     "output_type": "stream",
     "text": [
      "32/32 [==============================] - 46s 1s/step - loss: 0.2727 - accuracy: 0.9700\n",
      "comm_round: 29 | global_acc: 97.000% | global_loss: 0.27269187569618225\n"
     ]
    }
   ],
   "source": [
    "comms_round = 30  # Number of global epochs\n",
    "acc3 = []\n",
    "\n",
    "for comm_round in range(comms_round):\n",
    "\n",
    "    # Get the global model's weights - will serve as the initial weights for all local models\n",
    "    global_weights = global_model.get_weights()\n",
    "\n",
    "    # Initial list to collect local model weights after scaling\n",
    "    local_weight_list = []\n",
    "\n",
    "    # Randomize client data - using keys\n",
    "    client_names = list(clients_batched.keys())\n",
    "    random.shuffle(client_names)\n",
    "    \n",
    "    for client in tqdm(client_names, desc='Progress Bar'):\n",
    "        local_model = SimpleMLP.build()\n",
    "\n",
    "        local_model.compile(\n",
    "            loss='categorical_crossentropy',\n",
    "            optimizer='adam',\n",
    "            metrics=['accuracy']\n",
    "        )\n",
    "\n",
    "        # Set local model weight to the weight of the global model\n",
    "        local_model.set_weights(global_weights)\n",
    "\n",
    "        # Fit local model with client's data\n",
    "        local_model.fit(\n",
    "            np.array(clients_batched[client][0]),\n",
    "            np.array(clients_batched[client][1]),\n",
    "            epochs=2,\n",
    "            batch_size=32,\n",
    "            verbose= 2\n",
    "        )\n",
    "\n",
    "        # Get the scaled model weights and add to the list\n",
    "        weights = local_model.get_weights()\n",
    "        local_weight_list.append(weights)\n",
    "\n",
    "        # Clear the session to free memory after each communication round\n",
    "        K.clear_session()\n",
    "\n",
    "    # Calculate the average weights across all clients for each layer\n",
    "    average_weights = avg_weights(local_weight_list)\n",
    "\n",
    "    # Update the global model with the average weights\n",
    "    global_model.set_weights(average_weights)\n",
    "    \n",
    "    # Optionally, you can also test the global model at this point using a separate test dataset\n",
    "    global_acc, global_loss = test_model(test, one_hot_labels, global_model, comm_round)\n",
    "    acc3.append(global_acc)\n"
   ]
  },
  {
   "cell_type": "code",
   "execution_count": 29,
   "id": "1394c5f3",
   "metadata": {},
   "outputs": [
    {
     "name": "stdout",
     "output_type": "stream",
     "text": [
      "32/32 [==============================] - 47s 1s/step\n"
     ]
    },
    {
     "data": {
      "text/plain": [
       "array([1.0000000e+00, 1.6920700e-20, 2.6422837e-26, 8.3115340e-17,\n",
       "       7.6991072e-28], dtype=float32)"
      ]
     },
     "execution_count": 29,
     "metadata": {},
     "output_type": "execute_result"
    }
   ],
   "source": [
    "global_model.predict(test)[0]"
   ]
  },
  {
   "cell_type": "code",
   "execution_count": 30,
   "id": "f11e8cb3",
   "metadata": {},
   "outputs": [
    {
     "data": {
      "text/plain": [
       "[<matplotlib.lines.Line2D at 0x22005b77a50>]"
      ]
     },
     "execution_count": 30,
     "metadata": {},
     "output_type": "execute_result"
    },
    {
     "data": {
      "image/png": "[encoded data removed]",
      "text/plain": [
       "<Figure size 640x480 with 1 Axes>"
      ]
     },
     "metadata": {},
     "output_type": "display_data"
    }
   ],
   "source": [
    "import matplotlib.pyplot as plt\n",
    "plt.plot(acc3)"
   ]
  },
  {
   "cell_type": "code",
   "execution_count": 31,
   "id": "93c25370",
   "metadata": {},
   "outputs": [],
   "source": [
    "acc3=np.array(acc3)"
   ]
  },
  {
   "cell_type": "code",
   "execution_count": 32,
   "id": "4988fb68",
   "metadata": {},
   "outputs": [
    {
     "name": "stdout",
     "output_type": "stream",
     "text": [
      "32/32 [==============================] - 48s 1s/step - loss: 0.2727 - accuracy: 0.9700\n"
     ]
    },
    {
     "data": {
      "text/plain": [
       "[0.27269187569618225, 0.9700000286102295]"
      ]
     },
     "execution_count": 32,
     "metadata": {},
     "output_type": "execute_result"
    }
   ],
   "source": [
    "global_model.evaluate(test,one_hot_labels)"
   ]
  },
  {
   "cell_type": "code",
   "execution_count": 33,
   "id": "c16ba9e7",
   "metadata": {},
   "outputs": [],
   "source": [
    "np.save(\"acc_fedavg_pap.npy\",acc3)"
   ]
  },
  {
   "cell_type": "code",
   "execution_count": 34,
   "id": "3b8173b9",
   "metadata": {},
   "outputs": [
    {
     "name": "stderr",
     "output_type": "stream",
     "text": [
      "C:\\Users\\91898\\anaconda3\\Lib\\site-packages\\keras\\src\\engine\\training.py:3000: UserWarning: You are saving your model as an HDF5 file via `model.save()`. This file format is considered legacy. We recommend using instead the native Keras format, e.g. `model.save('my_model.keras')`.\n",
      "  saving_api.save_model(\n"
     ]
    }
   ],
   "source": [
    "global_model.save(\"fedavg_pap.h5\")"
   ]
  },
  {
   "cell_type": "code",
   "execution_count": 35,
   "id": "a20dbae6",
   "metadata": {},
   "outputs": [],
   "source": [
    "a = np.load(\"acc_fedavg_pap.npy\")"
   ]
  },
  {
   "cell_type": "code",
   "execution_count": 36,
   "id": "e67b1a1b",
   "metadata": {},
   "outputs": [
    {
     "data": {
      "text/plain": [
       "[<matplotlib.lines.Line2D at 0x21fcbe58410>]"
      ]
     },
     "execution_count": 36,
     "metadata": {},
     "output_type": "execute_result"
    },
    {
     "data": {
      "image/png": "[encoded data removed]",
      "text/plain": [
       "<Figure size 640x480 with 1 Axes>"
      ]
     },
     "metadata": {},
     "output_type": "display_data"
    }
   ],
   "source": [
    "plt.plot(a)"
   ]
  },
  {
   "cell_type": "code",
   "execution_count": null,
   "id": "0f03a4fd",
   "metadata": {},
   "outputs": [],
   "source": []
  }
 ],
 "metadata": {
  "kernelspec": {
   "display_name": "Python 3 (ipykernel)",
   "language": "python",
   "name": "python3"
  },
  "language_info": {
   "codemirror_mode": {
    "name": "ipython",
    "version": 3
   },
   "file_extension": ".py",
   "mimetype": "text/x-python",
   "name": "python",
   "nbconvert_exporter": "python",
   "pygments_lexer": "ipython3",
   "version": "3.11.4"
  }
 },
 "nbformat": 4,
 "nbformat_minor": 5
}
